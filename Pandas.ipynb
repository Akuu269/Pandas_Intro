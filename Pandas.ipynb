{
  "nbformat": 4,
  "nbformat_minor": 0,
  "metadata": {
    "colab": {
      "provenance": [],
      "authorship_tag": "ABX9TyPSLAGH/4MbgIutW4OuEfVX",
      "include_colab_link": true
    },
    "kernelspec": {
      "name": "python3",
      "display_name": "Python 3"
    },
    "language_info": {
      "name": "python"
    }
  },
  "cells": [
    {
      "cell_type": "markdown",
      "metadata": {
        "id": "view-in-github",
        "colab_type": "text"
      },
      "source": [
        "<a href=\"https://colab.research.google.com/github/Akuu269/Pandas_Intro/blob/main/Pandas.ipynb\" target=\"_parent\"><img src=\"https://colab.research.google.com/assets/colab-badge.svg\" alt=\"Open In Colab\"/></a>"
      ]
    },
    {
      "cell_type": "markdown",
      "source": [
        "##**Pandas Introduction**"
      ],
      "metadata": {
        "id": "sBAkGcRvyCfs"
      }
    },
    {
      "cell_type": "code",
      "source": [
        " import numpy as np\n",
        " import pandas as pd\n",
        "\n",
        " # 1. Panda Series >>>> create 1-D array\n",
        " data = np.array(['a' , 'b' , 'c' , 'd'])\n",
        " pd_series = pd.Series(data)\n",
        " print(pd_series)\n",
        "\n",
        " # 2. DataFrame >>>> create 2-D Array\n",
        "\n",
        " list = [\"Geek\" , \"abc\" , \"def\"]\n",
        " data = np.array(list)\n",
        " data_frame = pd.DataFrame(data)\n",
        " print(\"Data_Frame :  \\n\" , data_frame)"
      ],
      "metadata": {
        "colab": {
          "base_uri": "https://localhost:8080/"
        },
        "id": "UpjcH81TyOrj",
        "outputId": "26f4c0ab-117c-4452-8ac0-bf905f0374f6"
      },
      "execution_count": null,
      "outputs": [
        {
          "output_type": "stream",
          "name": "stdout",
          "text": [
            "0    a\n",
            "1    b\n",
            "2    c\n",
            "3    d\n",
            "dtype: object\n",
            "Data_Frame :  \n",
            "       0\n",
            "0  Geek\n",
            "1   abc\n",
            "2   def\n"
          ]
        }
      ]
    },
    {
      "cell_type": "markdown",
      "source": [
        "##**Pandas DataFrame**"
      ],
      "metadata": {
        "id": "2T6WeIZSY45B"
      }
    },
    {
      "cell_type": "markdown",
      "source": [
        "A [DataFrame](https://www.geeksforgeeks.org/pandas/python-pandas-dataframe/) is a **two-dimensional**, **size-mutable and potentially heterogeneous** tabular data structure with *labeled axes (rows and columns).*"
      ],
      "metadata": {
        "id": "yv_past6ZG-K"
      }
    },
    {
      "cell_type": "markdown",
      "source": [
        "####**1.Creating DataFrame**"
      ],
      "metadata": {
        "id": "DciOxoyrlUlp"
      }
    },
    {
      "cell_type": "code",
      "source": [
        "import numpy as np\n",
        "import pandas as pd\n",
        "\n",
        "# 1. Creating a Empty DataFrame\n",
        "\n",
        "data_frame = pd.DataFrame()\n",
        "print(data_frame)\n",
        "\n",
        "# 2. Creating a DataFrame From the List\n",
        "\n",
        "list = [['sachin' , 'Rahul' , 'Praveen' , 'Shreya'] , [80 , 50 , 90 , 99]]\n",
        "\n",
        "data = np.array(list)\n",
        "data_frame2 = pd.DataFrame(data)\n",
        "print(\"✅ DataFrame From the List : \\n\" , data_frame)\n",
        "\n",
        "\n",
        "# 3. Creating the DataFrame From list using Dict\n",
        "\n",
        "name_list = ['Sachin' , 'Rahul' , 'Praveen' , 'Shreya']\n",
        "score = [80 , 90 , 80 , 40]\n",
        "\n",
        "dict_List = {'name' : name_list  , 'score' : score}\n",
        "data_frame3 = pd.DataFrame(dict_List)\n",
        "print(\"✅ Creating DataFrame from the list of Dict : \\n\",data_frame3)\n",
        "\n",
        "# 4. Creating the DataFrame from the Dict from the Numpy Araay\n",
        "\n",
        "list = [['Sachin' , 'Rahul' , 'Praveen' , 'Ansh'] , [20 , 30 , 40 , 50] , [101 , 102 , 103 , 104]]\n",
        "data = np.array(list).T\n",
        "dataFrame4 = pd.DataFrame(data , columns =['Name' , 'Marks' , 'Roll Number'])\n",
        "print(\"✅ Creating the Dict DataFrame From the Numpy 2-D Array : \\n\", dataFrame4)\n",
        "\n",
        "# 5. Creating the DataFrame >>> Adding index to DataFrame explicitly\n",
        "\n",
        "data = {'name' : ['Sachin' , 'Rahul' , 'Praveen' , 'Shreya'],\n",
        "        'Age' : [24 , 30 , 21 , 25],\n",
        "        'Score' : [80 , 90 , 50 , 87]}\n",
        "\n",
        "dataFrame5 = pd.DataFrame(data , index=['index-0' , 'index-1' , 'index-2' , 'index-3'])\n",
        "print(\"✅ Adding index Explicitly: \\n\" , dataFrame5)\n",
        "\n",
        "\n"
      ],
      "metadata": {
        "colab": {
          "base_uri": "https://localhost:8080/"
        },
        "id": "ca5UObbLZ1fl",
        "outputId": "0dfd3db2-ae69-4dbc-86fe-5cb0cff6e58b"
      },
      "execution_count": null,
      "outputs": [
        {
          "output_type": "stream",
          "name": "stdout",
          "text": [
            "Empty DataFrame\n",
            "Columns: []\n",
            "Index: []\n",
            "✅ DataFrame From the List : \n",
            " Empty DataFrame\n",
            "Columns: []\n",
            "Index: []\n",
            "✅ Creating DataFrame from the list of Dict : \n",
            "       name  score\n",
            "0   Sachin     80\n",
            "1    Rahul     90\n",
            "2  Praveen     80\n",
            "3   Shreya     40\n",
            "✅ Creating the Dict DataFrame From the Numpy 2-D Array : \n",
            "       Name Marks Roll Number\n",
            "0   Sachin    20         101\n",
            "1    Rahul    30         102\n",
            "2  Praveen    40         103\n",
            "3     Ansh    50         104\n",
            "✅ Adding index Explicitly: \n",
            "             name  Age  Score\n",
            "index-0   Sachin   24     80\n",
            "index-1    Rahul   30     90\n",
            "index-2  Praveen   21     50\n",
            "index-3   Shreya   25     87\n"
          ]
        }
      ]
    },
    {
      "cell_type": "markdown",
      "source": [
        "####**2.Dataframe Index**"
      ],
      "metadata": {
        "id": "cJJcdCkglIKA"
      }
    },
    {
      "cell_type": "code",
      "source": [
        "# 1. Accessing and Modifying the Index\n",
        "\n",
        "import pandas as pd\n",
        "\n",
        "data  = {'Name': ['John', 'Alice', 'Bob', 'Eve', 'Charlie'],\n",
        "        'Age': [25, 30, 22, 35, 28],\n",
        "        'Gender': ['Male', 'Female', 'Male', 'Female', 'Male'],\n",
        "        'Salary': [50000, 55000, 40000, 70000, 48000]}\n",
        "\n",
        "df = pd.DataFrame(data)\n",
        "print(df)\n",
        "print(df.index)\n",
        "\n",
        "# 2. Setting a custom index >>> by setting a custom index as any column , default index\n",
        "# 0 , 1 , 2 ... removed this new column name will be now index for the table.\n",
        "\n",
        "# index = df.set_index( 'Name' , inplace=True)\n",
        "\n",
        "# print(\" \\n Custom Index : \\n\" , df)\n",
        "\n",
        "# 3. Resetting the custom Index\n",
        "\n",
        "# reset_index = df.reset_index()\n",
        "# print(\"\\n Reset the Index: \\n\" , reset_index)\n",
        "\n",
        "\n",
        "# 4. Indexing with loc[] >>> we can access the row and column data by loc\n",
        "# by giving row and column name\n",
        "\n",
        "# setting the default row index\n",
        "index_ = ['row1' , 'row2' , 'row3' , 'row4' , 'row5']\n",
        "df.index = index_\n",
        "print(df)\n",
        "\n",
        "loc_data = df.loc['row2']\n",
        "print(\"\\n ✅ Alice row Data :  \\n \" , loc_data)\n",
        "\n",
        "loc_data2 = df.loc['row3' , 'Age']\n",
        "print(\"\\n ✅ Getting a specific value : \\n\" , loc_data2)\n",
        "\n",
        "loc_data3 = df.loc['row3' , 'Age' : 'Gender']\n",
        "print(\"\\n ✅ Getting range of Data \\n\" , loc_data3)\n",
        "\n",
        "loc_data4 = df.loc[: , [ 'Age' , 'Gender']]\n",
        "print(\"\\n ✅ Getting all row and specific column: \\n\" , loc_data4)\n"
      ],
      "metadata": {
        "id": "KJjbi6Ndlnlb",
        "colab": {
          "base_uri": "https://localhost:8080/"
        },
        "outputId": "e97d5258-bddf-4f2a-d9d2-14532a0a8a3a"
      },
      "execution_count": null,
      "outputs": [
        {
          "output_type": "stream",
          "name": "stdout",
          "text": [
            "      Name  Age  Gender  Salary\n",
            "0     John   25    Male   50000\n",
            "1    Alice   30  Female   55000\n",
            "2      Bob   22    Male   40000\n",
            "3      Eve   35  Female   70000\n",
            "4  Charlie   28    Male   48000\n",
            "RangeIndex(start=0, stop=5, step=1)\n",
            "         Name  Age  Gender  Salary\n",
            "row1     John   25    Male   50000\n",
            "row2    Alice   30  Female   55000\n",
            "row3      Bob   22    Male   40000\n",
            "row4      Eve   35  Female   70000\n",
            "row5  Charlie   28    Male   48000\n",
            "\n",
            " Alice row Data :  \n",
            "  Name       Alice\n",
            "Age           30\n",
            "Gender    Female\n",
            "Salary     55000\n",
            "Name: row2, dtype: object\n",
            "\n",
            " Getting a specific value : \n",
            " 22\n",
            "\n",
            " Getting range of Data \n",
            " Age         22\n",
            "Gender    Male\n",
            "Name: row3, dtype: object\n",
            "\n",
            " Getting all row and specific column: \n",
            "       Age  Gender\n",
            "row1   25    Male\n",
            "row2   30  Female\n",
            "row3   22    Male\n",
            "row4   35  Female\n",
            "row5   28    Male\n"
          ]
        }
      ]
    },
    {
      "cell_type": "markdown",
      "source": [
        "###**3.Pandas Access DataFrame**"
      ],
      "metadata": {
        "id": "S69ZIzM6cZ50"
      }
    },
    {
      "cell_type": "code",
      "source": [
        "import pandas as pd\n",
        "\n",
        "data  = {'Name': ['John', 'Alice', 'Bob', 'Eve', 'Charlie'],\n",
        "        'Age': [25, 30, 22, 35, 28],\n",
        "        'Gender': ['Male', 'Female', 'Male', 'Female', 'Male'],\n",
        "        'Salary': [50000, 55000, 40000, 70000, 48000]}\n",
        "\n",
        "df = pd.DataFrame(data)\n",
        "\n",
        "print(\"\\n ✅ Print DataFrame: \\n\" , df)\n",
        "\n",
        "# 1. Accessing Columns From DataFrame\n",
        "print(\"\\n ✅ Access Data from column name : \\n\" , df['Age'])\n",
        "\n",
        "# 2. Accessing Rows by Index >> To access element from index used iloc[]\n",
        "print(\"\\n ✅ Access Data from index : \\n\" , df.iloc[1])\n",
        "\n",
        "# 3. Accessing Multiple Rows or Columns >> used loc[]\n",
        "print(\"\\n ✅ Access multiple row and columns : \\n\" , df.loc[0:2 , [\"Name\" , \"Age\" , 'Gender']])\n",
        "\n",
        "# 4. Accessing Rows Based on Conditions\n",
        "\n",
        "print(\"\\n ✅ Condition based Access elements: \\n\" , df[df[\"Age\"] > 25])\n",
        "\n",
        "\n",
        "\n",
        "\n"
      ],
      "metadata": {
        "colab": {
          "base_uri": "https://localhost:8080/"
        },
        "id": "lXSMpI4OchK3",
        "outputId": "c5163c7c-d1fb-4642-de39-72d9b671def2"
      },
      "execution_count": null,
      "outputs": [
        {
          "output_type": "stream",
          "name": "stdout",
          "text": [
            "\n",
            " ✅ Print DataFrame: \n",
            "       Name  Age  Gender  Salary\n",
            "0     John   25    Male   50000\n",
            "1    Alice   30  Female   55000\n",
            "2      Bob   22    Male   40000\n",
            "3      Eve   35  Female   70000\n",
            "4  Charlie   28    Male   48000\n",
            "\n",
            " ✅ Access Data from column name : \n",
            " 0    25\n",
            "1    30\n",
            "2    22\n",
            "3    35\n",
            "4    28\n",
            "Name: Age, dtype: int64\n",
            "\n",
            " ✅ Access Data from index : \n",
            " Name       Alice\n",
            "Age           30\n",
            "Gender    Female\n",
            "Salary     55000\n",
            "Name: 1, dtype: object\n",
            "\n",
            " ✅ Access multiple row and columns : \n",
            "     Name  Age  Gender\n",
            "0   John   25    Male\n",
            "1  Alice   30  Female\n",
            "2    Bob   22    Male\n",
            "\n",
            " ✅ Condition based Access elements: \n",
            "       Name  Age  Gender  Salary\n",
            "1    Alice   30  Female   55000\n",
            "3      Eve   35  Female   70000\n",
            "4  Charlie   28    Male   48000\n"
          ]
        }
      ]
    },
    {
      "cell_type": "markdown",
      "source": [
        "###**4. Indexing and Selecting Data with Pandas**"
      ],
      "metadata": {
        "id": "iA1atyHng3hR"
      }
    },
    {
      "cell_type": "markdown",
      "source": [
        "####**(i)Indexing Data using the [] Operator**"
      ],
      "metadata": {
        "id": "M0tspsHu0boI"
      }
    },
    {
      "cell_type": "code",
      "source": [
        "import pandas as pd\n",
        "\n",
        "Data = pd.read_csv('/content/nba.csv')\n",
        "print(Data.head(5))\n",
        "\n",
        "# 1. Selecting a Single Column"
      ],
      "metadata": {
        "colab": {
          "base_uri": "https://localhost:8080/",
          "height": 365
        },
        "id": "owcbNgR90Fjv",
        "outputId": "db6679fc-9688-41b3-9b7c-cac690b5323e"
      },
      "execution_count": null,
      "outputs": [
        {
          "output_type": "error",
          "ename": "FileNotFoundError",
          "evalue": "[Errno 2] No such file or directory: '/content/nba.csv'",
          "traceback": [
            "\u001b[0;31m---------------------------------------------------------------------------\u001b[0m",
            "\u001b[0;31mFileNotFoundError\u001b[0m                         Traceback (most recent call last)",
            "\u001b[0;32m/tmp/ipython-input-1249369066.py\u001b[0m in \u001b[0;36m<cell line: 0>\u001b[0;34m()\u001b[0m\n\u001b[1;32m      1\u001b[0m \u001b[0;32mimport\u001b[0m \u001b[0mpandas\u001b[0m \u001b[0;32mas\u001b[0m \u001b[0mpd\u001b[0m\u001b[0;34m\u001b[0m\u001b[0;34m\u001b[0m\u001b[0m\n\u001b[1;32m      2\u001b[0m \u001b[0;34m\u001b[0m\u001b[0m\n\u001b[0;32m----> 3\u001b[0;31m \u001b[0mData\u001b[0m \u001b[0;34m=\u001b[0m \u001b[0mpd\u001b[0m\u001b[0;34m.\u001b[0m\u001b[0mread_csv\u001b[0m\u001b[0;34m(\u001b[0m\u001b[0;34m'/content/nba.csv'\u001b[0m\u001b[0;34m)\u001b[0m\u001b[0;34m\u001b[0m\u001b[0;34m\u001b[0m\u001b[0m\n\u001b[0m\u001b[1;32m      4\u001b[0m \u001b[0mprint\u001b[0m\u001b[0;34m(\u001b[0m\u001b[0mData\u001b[0m\u001b[0;34m.\u001b[0m\u001b[0mhead\u001b[0m\u001b[0;34m(\u001b[0m\u001b[0;36m5\u001b[0m\u001b[0;34m)\u001b[0m\u001b[0;34m)\u001b[0m\u001b[0;34m\u001b[0m\u001b[0;34m\u001b[0m\u001b[0m\n\u001b[1;32m      5\u001b[0m \u001b[0;34m\u001b[0m\u001b[0m\n",
            "\u001b[0;32m/usr/local/lib/python3.12/dist-packages/pandas/io/parsers/readers.py\u001b[0m in \u001b[0;36mread_csv\u001b[0;34m(filepath_or_buffer, sep, delimiter, header, names, index_col, usecols, dtype, engine, converters, true_values, false_values, skipinitialspace, skiprows, skipfooter, nrows, na_values, keep_default_na, na_filter, verbose, skip_blank_lines, parse_dates, infer_datetime_format, keep_date_col, date_parser, date_format, dayfirst, cache_dates, iterator, chunksize, compression, thousands, decimal, lineterminator, quotechar, quoting, doublequote, escapechar, comment, encoding, encoding_errors, dialect, on_bad_lines, delim_whitespace, low_memory, memory_map, float_precision, storage_options, dtype_backend)\u001b[0m\n\u001b[1;32m   1024\u001b[0m     \u001b[0mkwds\u001b[0m\u001b[0;34m.\u001b[0m\u001b[0mupdate\u001b[0m\u001b[0;34m(\u001b[0m\u001b[0mkwds_defaults\u001b[0m\u001b[0;34m)\u001b[0m\u001b[0;34m\u001b[0m\u001b[0;34m\u001b[0m\u001b[0m\n\u001b[1;32m   1025\u001b[0m \u001b[0;34m\u001b[0m\u001b[0m\n\u001b[0;32m-> 1026\u001b[0;31m     \u001b[0;32mreturn\u001b[0m \u001b[0m_read\u001b[0m\u001b[0;34m(\u001b[0m\u001b[0mfilepath_or_buffer\u001b[0m\u001b[0;34m,\u001b[0m \u001b[0mkwds\u001b[0m\u001b[0;34m)\u001b[0m\u001b[0;34m\u001b[0m\u001b[0;34m\u001b[0m\u001b[0m\n\u001b[0m\u001b[1;32m   1027\u001b[0m \u001b[0;34m\u001b[0m\u001b[0m\n\u001b[1;32m   1028\u001b[0m \u001b[0;34m\u001b[0m\u001b[0m\n",
            "\u001b[0;32m/usr/local/lib/python3.12/dist-packages/pandas/io/parsers/readers.py\u001b[0m in \u001b[0;36m_read\u001b[0;34m(filepath_or_buffer, kwds)\u001b[0m\n\u001b[1;32m    618\u001b[0m \u001b[0;34m\u001b[0m\u001b[0m\n\u001b[1;32m    619\u001b[0m     \u001b[0;31m# Create the parser.\u001b[0m\u001b[0;34m\u001b[0m\u001b[0;34m\u001b[0m\u001b[0m\n\u001b[0;32m--> 620\u001b[0;31m     \u001b[0mparser\u001b[0m \u001b[0;34m=\u001b[0m \u001b[0mTextFileReader\u001b[0m\u001b[0;34m(\u001b[0m\u001b[0mfilepath_or_buffer\u001b[0m\u001b[0;34m,\u001b[0m \u001b[0;34m**\u001b[0m\u001b[0mkwds\u001b[0m\u001b[0;34m)\u001b[0m\u001b[0;34m\u001b[0m\u001b[0;34m\u001b[0m\u001b[0m\n\u001b[0m\u001b[1;32m    621\u001b[0m \u001b[0;34m\u001b[0m\u001b[0m\n\u001b[1;32m    622\u001b[0m     \u001b[0;32mif\u001b[0m \u001b[0mchunksize\u001b[0m \u001b[0;32mor\u001b[0m \u001b[0miterator\u001b[0m\u001b[0;34m:\u001b[0m\u001b[0;34m\u001b[0m\u001b[0;34m\u001b[0m\u001b[0m\n",
            "\u001b[0;32m/usr/local/lib/python3.12/dist-packages/pandas/io/parsers/readers.py\u001b[0m in \u001b[0;36m__init__\u001b[0;34m(self, f, engine, **kwds)\u001b[0m\n\u001b[1;32m   1618\u001b[0m \u001b[0;34m\u001b[0m\u001b[0m\n\u001b[1;32m   1619\u001b[0m         \u001b[0mself\u001b[0m\u001b[0;34m.\u001b[0m\u001b[0mhandles\u001b[0m\u001b[0;34m:\u001b[0m \u001b[0mIOHandles\u001b[0m \u001b[0;34m|\u001b[0m \u001b[0;32mNone\u001b[0m \u001b[0;34m=\u001b[0m \u001b[0;32mNone\u001b[0m\u001b[0;34m\u001b[0m\u001b[0;34m\u001b[0m\u001b[0m\n\u001b[0;32m-> 1620\u001b[0;31m         \u001b[0mself\u001b[0m\u001b[0;34m.\u001b[0m\u001b[0m_engine\u001b[0m \u001b[0;34m=\u001b[0m \u001b[0mself\u001b[0m\u001b[0;34m.\u001b[0m\u001b[0m_make_engine\u001b[0m\u001b[0;34m(\u001b[0m\u001b[0mf\u001b[0m\u001b[0;34m,\u001b[0m \u001b[0mself\u001b[0m\u001b[0;34m.\u001b[0m\u001b[0mengine\u001b[0m\u001b[0;34m)\u001b[0m\u001b[0;34m\u001b[0m\u001b[0;34m\u001b[0m\u001b[0m\n\u001b[0m\u001b[1;32m   1621\u001b[0m \u001b[0;34m\u001b[0m\u001b[0m\n\u001b[1;32m   1622\u001b[0m     \u001b[0;32mdef\u001b[0m \u001b[0mclose\u001b[0m\u001b[0;34m(\u001b[0m\u001b[0mself\u001b[0m\u001b[0;34m)\u001b[0m \u001b[0;34m->\u001b[0m \u001b[0;32mNone\u001b[0m\u001b[0;34m:\u001b[0m\u001b[0;34m\u001b[0m\u001b[0;34m\u001b[0m\u001b[0m\n",
            "\u001b[0;32m/usr/local/lib/python3.12/dist-packages/pandas/io/parsers/readers.py\u001b[0m in \u001b[0;36m_make_engine\u001b[0;34m(self, f, engine)\u001b[0m\n\u001b[1;32m   1878\u001b[0m                 \u001b[0;32mif\u001b[0m \u001b[0;34m\"b\"\u001b[0m \u001b[0;32mnot\u001b[0m \u001b[0;32min\u001b[0m \u001b[0mmode\u001b[0m\u001b[0;34m:\u001b[0m\u001b[0;34m\u001b[0m\u001b[0;34m\u001b[0m\u001b[0m\n\u001b[1;32m   1879\u001b[0m                     \u001b[0mmode\u001b[0m \u001b[0;34m+=\u001b[0m \u001b[0;34m\"b\"\u001b[0m\u001b[0;34m\u001b[0m\u001b[0;34m\u001b[0m\u001b[0m\n\u001b[0;32m-> 1880\u001b[0;31m             self.handles = get_handle(\n\u001b[0m\u001b[1;32m   1881\u001b[0m                 \u001b[0mf\u001b[0m\u001b[0;34m,\u001b[0m\u001b[0;34m\u001b[0m\u001b[0;34m\u001b[0m\u001b[0m\n\u001b[1;32m   1882\u001b[0m                 \u001b[0mmode\u001b[0m\u001b[0;34m,\u001b[0m\u001b[0;34m\u001b[0m\u001b[0;34m\u001b[0m\u001b[0m\n",
            "\u001b[0;32m/usr/local/lib/python3.12/dist-packages/pandas/io/common.py\u001b[0m in \u001b[0;36mget_handle\u001b[0;34m(path_or_buf, mode, encoding, compression, memory_map, is_text, errors, storage_options)\u001b[0m\n\u001b[1;32m    871\u001b[0m         \u001b[0;32mif\u001b[0m \u001b[0mioargs\u001b[0m\u001b[0;34m.\u001b[0m\u001b[0mencoding\u001b[0m \u001b[0;32mand\u001b[0m \u001b[0;34m\"b\"\u001b[0m \u001b[0;32mnot\u001b[0m \u001b[0;32min\u001b[0m \u001b[0mioargs\u001b[0m\u001b[0;34m.\u001b[0m\u001b[0mmode\u001b[0m\u001b[0;34m:\u001b[0m\u001b[0;34m\u001b[0m\u001b[0;34m\u001b[0m\u001b[0m\n\u001b[1;32m    872\u001b[0m             \u001b[0;31m# Encoding\u001b[0m\u001b[0;34m\u001b[0m\u001b[0;34m\u001b[0m\u001b[0m\n\u001b[0;32m--> 873\u001b[0;31m             handle = open(\n\u001b[0m\u001b[1;32m    874\u001b[0m                 \u001b[0mhandle\u001b[0m\u001b[0;34m,\u001b[0m\u001b[0;34m\u001b[0m\u001b[0;34m\u001b[0m\u001b[0m\n\u001b[1;32m    875\u001b[0m                 \u001b[0mioargs\u001b[0m\u001b[0;34m.\u001b[0m\u001b[0mmode\u001b[0m\u001b[0;34m,\u001b[0m\u001b[0;34m\u001b[0m\u001b[0;34m\u001b[0m\u001b[0m\n",
            "\u001b[0;31mFileNotFoundError\u001b[0m: [Errno 2] No such file or directory: '/content/nba.csv'"
          ]
        }
      ]
    }
  ]
}