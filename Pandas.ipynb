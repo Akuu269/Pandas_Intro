{
  "nbformat": 4,
  "nbformat_minor": 0,
  "metadata": {
    "colab": {
      "provenance": [],
      "authorship_tag": "ABX9TyPL7AneQ2n7pmuS/WEPSgW7",
      "include_colab_link": true
    },
    "kernelspec": {
      "name": "python3",
      "display_name": "Python 3"
    },
    "language_info": {
      "name": "python"
    }
  },
  "cells": [
    {
      "cell_type": "markdown",
      "metadata": {
        "id": "view-in-github",
        "colab_type": "text"
      },
      "source": [
        "<a href=\"https://colab.research.google.com/github/Akuu269/Pandas_Intro/blob/main/Pandas.ipynb\" target=\"_parent\"><img src=\"https://colab.research.google.com/assets/colab-badge.svg\" alt=\"Open In Colab\"/></a>"
      ]
    },
    {
      "cell_type": "markdown",
      "source": [
        "##**Pandas Introduction**"
      ],
      "metadata": {
        "id": "sBAkGcRvyCfs"
      }
    },
    {
      "cell_type": "code",
      "source": [
        " import numpy as np\n",
        " import pandas as pd\n",
        "\n",
        " # 1. Panda Series >>>> create 1-D array\n",
        " data = np.array(['a' , 'b' , 'c' , 'd'])\n",
        " pd_series = pd.Series(data)\n",
        " print(pd_series)\n",
        "\n",
        " # 2. DataFrame >>>> create 2-D Array\n",
        "\n",
        " list = [\"Geek\" , \"abc\" , \"def\"]\n",
        " data = np.array(list)\n",
        " data_frame = pd.DataFrame(data)\n",
        " print(\"Data_Frame :  \\n\" , data_frame)"
      ],
      "metadata": {
        "colab": {
          "base_uri": "https://localhost:8080/"
        },
        "id": "UpjcH81TyOrj",
        "outputId": "26f4c0ab-117c-4452-8ac0-bf905f0374f6"
      },
      "execution_count": null,
      "outputs": [
        {
          "output_type": "stream",
          "name": "stdout",
          "text": [
            "0    a\n",
            "1    b\n",
            "2    c\n",
            "3    d\n",
            "dtype: object\n",
            "Data_Frame :  \n",
            "       0\n",
            "0  Geek\n",
            "1   abc\n",
            "2   def\n"
          ]
        }
      ]
    },
    {
      "cell_type": "markdown",
      "source": [
        "##**Pandas DataFrame**"
      ],
      "metadata": {
        "id": "2T6WeIZSY45B"
      }
    },
    {
      "cell_type": "markdown",
      "source": [
        "A [DataFrame](https://www.geeksforgeeks.org/pandas/python-pandas-dataframe/) is a **two-dimensional**, **size-mutable and potentially heterogeneous** tabular data structure with *labeled axes (rows and columns).*"
      ],
      "metadata": {
        "id": "yv_past6ZG-K"
      }
    },
    {
      "cell_type": "markdown",
      "source": [
        "####**1.Creating DataFrame**"
      ],
      "metadata": {
        "id": "DciOxoyrlUlp"
      }
    },
    {
      "cell_type": "code",
      "source": [
        "import numpy as np\n",
        "import pandas as pd\n",
        "\n",
        "# 1. Creating a Empty DataFrame\n",
        "\n",
        "data_frame = pd.DataFrame()\n",
        "print(data_frame)\n",
        "\n",
        "# 2. Creating a DataFrame From the List\n",
        "\n",
        "list = [['sachin' , 'Rahul' , 'Praveen' , 'Shreya'] , [80 , 50 , 90 , 99]]\n",
        "\n",
        "data = np.array(list)\n",
        "data_frame2 = pd.DataFrame(data)\n",
        "print(\"✅ DataFrame From the List : \\n\" , data_frame)\n",
        "\n",
        "\n",
        "# 3. Creating the DataFrame From list using Dict\n",
        "\n",
        "name_list = ['Sachin' , 'Rahul' , 'Praveen' , 'Shreya']\n",
        "score = [80 , 90 , 80 , 40]\n",
        "\n",
        "dict_List = {'name' : name_list  , 'score' : score}\n",
        "data_frame3 = pd.DataFrame(dict_List)\n",
        "print(\"✅ Creating DataFrame from the list of Dict : \\n\",data_frame3)\n",
        "\n",
        "# 4. Creating the DataFrame from the Dict from the Numpy Araay\n",
        "\n",
        "list = [['Sachin' , 'Rahul' , 'Praveen' , 'Ansh'] , [20 , 30 , 40 , 50] , [101 , 102 , 103 , 104]]\n",
        "data = np.array(list).T\n",
        "dataFrame4 = pd.DataFrame(data , columns =['Name' , 'Marks' , 'Roll Number'])\n",
        "print(\"✅ Creating the Dict DataFrame From the Numpy 2-D Array : \\n\", dataFrame4)\n",
        "\n",
        "# 5. Creating the DataFrame >>> Adding index to DataFrame explicitly\n",
        "\n",
        "data = {'name' : ['Sachin' , 'Rahul' , 'Praveen' , 'Shreya'],\n",
        "        'Age' : [24 , 30 , 21 , 25],\n",
        "        'Score' : [80 , 90 , 50 , 87]}\n",
        "\n",
        "dataFrame5 = pd.DataFrame(data , index=['index-0' , 'index-1' , 'index-2' , 'index-3'])\n",
        "print(\"✅ Adding index Explicitly: \\n\" , dataFrame5)\n",
        "\n",
        "\n"
      ],
      "metadata": {
        "colab": {
          "base_uri": "https://localhost:8080/"
        },
        "id": "ca5UObbLZ1fl",
        "outputId": "0dfd3db2-ae69-4dbc-86fe-5cb0cff6e58b"
      },
      "execution_count": null,
      "outputs": [
        {
          "output_type": "stream",
          "name": "stdout",
          "text": [
            "Empty DataFrame\n",
            "Columns: []\n",
            "Index: []\n",
            "✅ DataFrame From the List : \n",
            " Empty DataFrame\n",
            "Columns: []\n",
            "Index: []\n",
            "✅ Creating DataFrame from the list of Dict : \n",
            "       name  score\n",
            "0   Sachin     80\n",
            "1    Rahul     90\n",
            "2  Praveen     80\n",
            "3   Shreya     40\n",
            "✅ Creating the Dict DataFrame From the Numpy 2-D Array : \n",
            "       Name Marks Roll Number\n",
            "0   Sachin    20         101\n",
            "1    Rahul    30         102\n",
            "2  Praveen    40         103\n",
            "3     Ansh    50         104\n",
            "✅ Adding index Explicitly: \n",
            "             name  Age  Score\n",
            "index-0   Sachin   24     80\n",
            "index-1    Rahul   30     90\n",
            "index-2  Praveen   21     50\n",
            "index-3   Shreya   25     87\n"
          ]
        }
      ]
    },
    {
      "cell_type": "markdown",
      "source": [
        "####**2.Dataframe Index**"
      ],
      "metadata": {
        "id": "cJJcdCkglIKA"
      }
    },
    {
      "cell_type": "code",
      "source": [
        "# 1. Accessing and Modifying the Index\n",
        "\n",
        "import pandas as pd\n",
        "\n",
        "data  = {'Name': ['John', 'Alice', 'Bob', 'Eve', 'Charlie'],\n",
        "        'Age': [25, 30, 22, 35, 28],\n",
        "        'Gender': ['Male', 'Female', 'Male', 'Female', 'Male'],\n",
        "        'Salary': [50000, 55000, 40000, 70000, 48000]}\n",
        "\n",
        "df = pd.DataFrame(data)\n",
        "print(df)\n",
        "print(df.index)\n",
        "\n",
        "# 2. Setting a custom index >>> by setting a custom index as any column , default index\n",
        "# 0 , 1 , 2 ... removed this new column name will be now index for the table.\n",
        "\n",
        "# index = df.set_index( 'Name' , inplace=True)\n",
        "\n",
        "# print(\" \\n Custom Index : \\n\" , df)\n",
        "\n",
        "# 3. Resetting the custom Index\n",
        "\n",
        "# reset_index = df.reset_index()\n",
        "# print(\"\\n Reset the Index: \\n\" , reset_index)\n",
        "\n",
        "\n",
        "# 4. Indexing with loc[] >>> we can access the row and column data by loc\n",
        "# by giving row and column name\n",
        "\n",
        "# setting the default row index\n",
        "index_ = ['row1' , 'row2' , 'row3' , 'row4' , 'row5']\n",
        "df.index = index_\n",
        "print(df)\n",
        "\n",
        "loc_data = df.loc['row2']\n",
        "print(\"\\n ✅ Alice row Data :  \\n \" , loc_data)\n",
        "\n",
        "loc_data2 = df.loc['row3' , 'Age']\n",
        "print(\"\\n ✅ Getting a specific value : \\n\" , loc_data2)\n",
        "\n",
        "loc_data3 = df.loc['row3' , 'Age' : 'Gender']\n",
        "print(\"\\n ✅ Getting range of Data \\n\" , loc_data3)\n",
        "\n",
        "loc_data4 = df.loc[: , [ 'Age' , 'Gender']]\n",
        "print(\"\\n ✅ Getting all row and specific column: \\n\" , loc_data4)\n"
      ],
      "metadata": {
        "id": "KJjbi6Ndlnlb",
        "colab": {
          "base_uri": "https://localhost:8080/"
        },
        "outputId": "e97d5258-bddf-4f2a-d9d2-14532a0a8a3a"
      },
      "execution_count": null,
      "outputs": [
        {
          "output_type": "stream",
          "name": "stdout",
          "text": [
            "      Name  Age  Gender  Salary\n",
            "0     John   25    Male   50000\n",
            "1    Alice   30  Female   55000\n",
            "2      Bob   22    Male   40000\n",
            "3      Eve   35  Female   70000\n",
            "4  Charlie   28    Male   48000\n",
            "RangeIndex(start=0, stop=5, step=1)\n",
            "         Name  Age  Gender  Salary\n",
            "row1     John   25    Male   50000\n",
            "row2    Alice   30  Female   55000\n",
            "row3      Bob   22    Male   40000\n",
            "row4      Eve   35  Female   70000\n",
            "row5  Charlie   28    Male   48000\n",
            "\n",
            " Alice row Data :  \n",
            "  Name       Alice\n",
            "Age           30\n",
            "Gender    Female\n",
            "Salary     55000\n",
            "Name: row2, dtype: object\n",
            "\n",
            " Getting a specific value : \n",
            " 22\n",
            "\n",
            " Getting range of Data \n",
            " Age         22\n",
            "Gender    Male\n",
            "Name: row3, dtype: object\n",
            "\n",
            " Getting all row and specific column: \n",
            "       Age  Gender\n",
            "row1   25    Male\n",
            "row2   30  Female\n",
            "row3   22    Male\n",
            "row4   35  Female\n",
            "row5   28    Male\n"
          ]
        }
      ]
    },
    {
      "cell_type": "markdown",
      "source": [
        "###**3.Pandas Access DataFrame**"
      ],
      "metadata": {
        "id": "S69ZIzM6cZ50"
      }
    },
    {
      "cell_type": "code",
      "source": [
        "import pandas as pd\n",
        "\n",
        "data  = {'Name': ['John', 'Alice', 'Bob', 'Eve', 'Charlie'],\n",
        "        'Age': [25, 30, 22, 35, 28],\n",
        "        'Gender': ['Male', 'Female', 'Male', 'Female', 'Male'],\n",
        "        'Salary': [50000, 55000, 40000, 70000, 48000]}\n",
        "\n",
        "df = pd.DataFrame(data)\n",
        "\n",
        "print(\"\\n ✅ Print DataFrame: \\n\" , df)\n",
        "\n",
        "# 1. Accessing Columns From DataFrame\n",
        "print(\"\\n ✅ Access Data from column name : \\n\" , df['Age'])\n",
        "\n",
        "# 2. Accessing Rows by Index >> To access element from index used iloc[]\n",
        "print(\"\\n ✅ Access Data from index : \\n\" , df.iloc[1])\n",
        "\n",
        "# 3. Accessing Multiple Rows or Columns >> used loc[]\n",
        "print(\"\\n ✅ Access multiple row and columns : \\n\" , df.loc[0:2 , [\"Name\" , \"Age\" , 'Gender']])\n",
        "\n",
        "# 4. Accessing Rows Based on Conditions\n",
        "\n",
        "print(\"\\n ✅ Condition based Access elements: \\n\" , df[df[\"Age\"] > 25])\n",
        "\n",
        "\n",
        "\n",
        "\n"
      ],
      "metadata": {
        "colab": {
          "base_uri": "https://localhost:8080/"
        },
        "id": "lXSMpI4OchK3",
        "outputId": "c5163c7c-d1fb-4642-de39-72d9b671def2"
      },
      "execution_count": null,
      "outputs": [
        {
          "output_type": "stream",
          "name": "stdout",
          "text": [
            "\n",
            " ✅ Print DataFrame: \n",
            "       Name  Age  Gender  Salary\n",
            "0     John   25    Male   50000\n",
            "1    Alice   30  Female   55000\n",
            "2      Bob   22    Male   40000\n",
            "3      Eve   35  Female   70000\n",
            "4  Charlie   28    Male   48000\n",
            "\n",
            " ✅ Access Data from column name : \n",
            " 0    25\n",
            "1    30\n",
            "2    22\n",
            "3    35\n",
            "4    28\n",
            "Name: Age, dtype: int64\n",
            "\n",
            " ✅ Access Data from index : \n",
            " Name       Alice\n",
            "Age           30\n",
            "Gender    Female\n",
            "Salary     55000\n",
            "Name: 1, dtype: object\n",
            "\n",
            " ✅ Access multiple row and columns : \n",
            "     Name  Age  Gender\n",
            "0   John   25    Male\n",
            "1  Alice   30  Female\n",
            "2    Bob   22    Male\n",
            "\n",
            " ✅ Condition based Access elements: \n",
            "       Name  Age  Gender  Salary\n",
            "1    Alice   30  Female   55000\n",
            "3      Eve   35  Female   70000\n",
            "4  Charlie   28    Male   48000\n"
          ]
        }
      ]
    },
    {
      "cell_type": "markdown",
      "source": [
        "###**4. Indexing and Selecting Data with Pandas**"
      ],
      "metadata": {
        "id": "iA1atyHng3hR"
      }
    },
    {
      "cell_type": "markdown",
      "source": [
        "####**(i)Indexing Data using the [] Operator**"
      ],
      "metadata": {
        "id": "M0tspsHu0boI"
      }
    },
    {
      "cell_type": "code",
      "source": [
        "import pandas as pd\n",
        "\n",
        "data  = {'Name': ['John', 'Alice', 'Bob', 'Eve', 'Charlie'],\n",
        "        'Age': [25, 30, 22, 35, 28],\n",
        "        'Gender': ['Male', 'Female', 'Male', 'Female', 'Male'],\n",
        "        'Salary': [50000, 55000, 40000, 70000, 48000]}\n",
        "fd = pd.DataFrame(data)\n",
        "print(fd.head(4))\n",
        "\n",
        "# 1. Selecting a Single Column"
      ],
      "metadata": {
        "colab": {
          "base_uri": "https://localhost:8080/"
        },
        "id": "owcbNgR90Fjv",
        "outputId": "1b693e31-2914-4b10-ef47-b1207257b38f"
      },
      "execution_count": null,
      "outputs": [
        {
          "output_type": "stream",
          "name": "stdout",
          "text": [
            "    Name  Age  Gender  Salary\n",
            "0   John   25    Male   50000\n",
            "1  Alice   30  Female   55000\n",
            "2    Bob   22    Male   40000\n",
            "3    Eve   35  Female   70000\n"
          ]
        }
      ]
    },
    {
      "cell_type": "markdown",
      "source": [
        "####**Slicing Pandas Dataframe**"
      ],
      "metadata": {
        "id": "B55UZbF1y8dj"
      }
    },
    {
      "cell_type": "code",
      "source": [
        "import pandas as pd\n",
        "\n",
        "player_list = [['M.S.Dhoni', 36, 75, 5428000],\n",
        "               ['A.B.D Villers', 38, 74, 3428000],\n",
        "               ['V.Kohli', 31, 70, 8428000],\n",
        "               ['S.Smith', 34, 80, 4428000],\n",
        "               ['C.Gayle', 40, 100, 4528000],\n",
        "               ['J.Root', 33, 72, 7028000],\n",
        "               ['K.Peterson', 42, 85, 2528000]]\n",
        "\n",
        "fd = pd.DataFrame(player_list)\n",
        "\n",
        "print(\"Player Data before: \\n\" , fd)\n",
        "\n",
        "fd = pd.DataFrame(player_list , columns=['Name' , 'Age', 'Weight' , 'Salary'])\n",
        "\n",
        "print(\"\\n Player Data after column Name: \\n\" , fd)\n",
        "\n"
      ],
      "metadata": {
        "colab": {
          "base_uri": "https://localhost:8080/"
        },
        "id": "SylUc98bzOkO",
        "outputId": "9dbc452d-a295-4f99-b6fb-5e665b31455e"
      },
      "execution_count": null,
      "outputs": [
        {
          "output_type": "stream",
          "name": "stdout",
          "text": [
            "Player Data before: \n",
            "                0   1    2        3\n",
            "0      M.S.Dhoni  36   75  5428000\n",
            "1  A.B.D Villers  38   74  3428000\n",
            "2        V.Kohli  31   70  8428000\n",
            "3        S.Smith  34   80  4428000\n",
            "4        C.Gayle  40  100  4528000\n",
            "5         J.Root  33   72  7028000\n",
            "6     K.Peterson  42   85  2528000\n",
            "\n",
            " Player Data after column Name: \n",
            "             Name  Age  Weight   Salary\n",
            "0      M.S.Dhoni   36      75  5428000\n",
            "1  A.B.D Villers   38      74  3428000\n",
            "2        V.Kohli   31      70  8428000\n",
            "3        S.Smith   34      80  4428000\n",
            "4        C.Gayle   40     100  4528000\n",
            "5         J.Root   33      72  7028000\n",
            "6     K.Peterson   42      85  2528000\n"
          ]
        }
      ]
    },
    {
      "cell_type": "code",
      "source": [
        "import pandas as pd\n",
        "\n",
        "player_list = [['M.S.Dhoni', 36, 75, 5428000],\n",
        "               ['A.B.D Villers', 38, 74, 3428000],\n",
        "               ['V.Kohli', 31, 70, 8428000],\n",
        "               ['S.Smith', 34, 80, 4428000],\n",
        "               ['C.Gayle', 40, 100, 4528000],\n",
        "               ['J.Root', 33, 72, 7028000],\n",
        "               ['K.Peterson', 42, 85, 2528000]]\n",
        "\n",
        "\n",
        "#1. Slicing Using iloc[] (Integer-Based Indexing)\n",
        "\n",
        "fd = pd.DataFrame(player_list , columns = [\"Name\" , 'Age' , \"Weight\" , \"Salary\"])\n",
        "\n",
        "result = print(\"selecting Row range by index : \\n\" , fd.iloc[0 : 2])\n",
        "\n",
        "result2 = print(\"\\n Selecting all row and Fixed column Range by index: \\n\" , fd.iloc[: , 2:4])\n",
        "\n",
        "\n",
        "#2. Slicing Using loc[]\n",
        "\n",
        "result3 = print(\"\\n Selecting Range by Row Name : \\n \" , fd.loc[0:2])\n",
        "result4 = print(\"\\n Selecting Range by All row and Fixed Column name: \\n\" , fd.loc[: , 'Name' : 'Age'])\n",
        "result5 = print(\"\\n Selecting a fixed Value: \\n\" , fd.loc[2 , 'Salary'])"
      ],
      "metadata": {
        "colab": {
          "base_uri": "https://localhost:8080/"
        },
        "id": "I-xwuN3N1ig6",
        "outputId": "7d829d74-3209-4e27-b7ed-e2eec7842dc0"
      },
      "execution_count": null,
      "outputs": [
        {
          "output_type": "stream",
          "name": "stdout",
          "text": [
            "selecting Row range by index : \n",
            "             Name  Age  Weight   Salary\n",
            "0      M.S.Dhoni   36      75  5428000\n",
            "1  A.B.D Villers   38      74  3428000\n",
            "\n",
            " Selecting all row and Fixed column Range by index: \n",
            "    Weight   Salary\n",
            "0      75  5428000\n",
            "1      74  3428000\n",
            "2      70  8428000\n",
            "3      80  4428000\n",
            "4     100  4528000\n",
            "5      72  7028000\n",
            "6      85  2528000\n",
            "\n",
            " Selecting Range by Row Name : \n",
            "              Name  Age  Weight   Salary\n",
            "0      M.S.Dhoni   36      75  5428000\n",
            "1  A.B.D Villers   38      74  3428000\n",
            "2        V.Kohli   31      70  8428000\n",
            "\n",
            " Selecting Range by All row and Fixed Column name: \n",
            "             Name  Age\n",
            "0      M.S.Dhoni   36\n",
            "1  A.B.D Villers   38\n",
            "2        V.Kohli   31\n",
            "3        S.Smith   34\n",
            "4        C.Gayle   40\n",
            "5         J.Root   33\n",
            "6     K.Peterson   42\n",
            "\n",
            " Selecting a fixed Value: \n",
            " 8428000\n"
          ]
        }
      ]
    },
    {
      "cell_type": "markdown",
      "source": [
        "####**Filter Pandas Dataframe with multiple conditions**"
      ],
      "metadata": {
        "id": "r-BIv7xR77m3"
      }
    },
    {
      "cell_type": "code",
      "source": [
        "import pandas as pd\n",
        "\n",
        "dataFrame = pd.DataFrame({'Name': [' RACHEL  ', ' MONICA  ', ' PHOEBE  ',\n",
        "                                   '  ROSS    ', 'CHANDLER', ' JOEY    '],\n",
        "\n",
        "                          'Age': [30, 35, 37, 33, 34, 30],\n",
        "\n",
        "                          'Salary': [100000, 93000, 88000, 120000, 94000, 95000],\n",
        "\n",
        "                          'JOB': ['DESIGNER', 'CHEF', 'MASUS', 'PALENTOLOGY',\n",
        "                                  'IT', 'ARTIST']})\n",
        "\n",
        "\n",
        "display(dataFrame[(dataFrame['Age'] > 30) &\n",
        "                  (dataFrame['Salary'] > 9000) &\n",
        "                   dataFrame['JOB'].str.startswith('P')])\n",
        "\n",
        "# using Query method\n",
        "\n",
        "display(\"Display with Query : \\n\" , dataFrame.query('Salary > 9000 & Age >= 30 & JOB.str.startswith(\"C\")'))\n",
        "\n"
      ],
      "metadata": {
        "colab": {
          "base_uri": "https://localhost:8080/",
          "height": 163
        },
        "id": "f24qkhvAAohA",
        "outputId": "fb024682-e3ee-4031-fb0d-0e2b9c76a672"
      },
      "execution_count": null,
      "outputs": [
        {
          "output_type": "display_data",
          "data": {
            "text/plain": [
              "         Name  Age  Salary          JOB\n",
              "3    ROSS       33  120000  PALENTOLOGY"
            ],
            "text/html": [
              "\n",
              "  <div id=\"df-3536babc-edf2-405b-a480-8e1896441033\" class=\"colab-df-container\">\n",
              "    <div>\n",
              "<style scoped>\n",
              "    .dataframe tbody tr th:only-of-type {\n",
              "        vertical-align: middle;\n",
              "    }\n",
              "\n",
              "    .dataframe tbody tr th {\n",
              "        vertical-align: top;\n",
              "    }\n",
              "\n",
              "    .dataframe thead th {\n",
              "        text-align: right;\n",
              "    }\n",
              "</style>\n",
              "<table border=\"1\" class=\"dataframe\">\n",
              "  <thead>\n",
              "    <tr style=\"text-align: right;\">\n",
              "      <th></th>\n",
              "      <th>Name</th>\n",
              "      <th>Age</th>\n",
              "      <th>Salary</th>\n",
              "      <th>JOB</th>\n",
              "    </tr>\n",
              "  </thead>\n",
              "  <tbody>\n",
              "    <tr>\n",
              "      <th>3</th>\n",
              "      <td>ROSS</td>\n",
              "      <td>33</td>\n",
              "      <td>120000</td>\n",
              "      <td>PALENTOLOGY</td>\n",
              "    </tr>\n",
              "  </tbody>\n",
              "</table>\n",
              "</div>\n",
              "    <div class=\"colab-df-buttons\">\n",
              "\n",
              "  <div class=\"colab-df-container\">\n",
              "    <button class=\"colab-df-convert\" onclick=\"convertToInteractive('df-3536babc-edf2-405b-a480-8e1896441033')\"\n",
              "            title=\"Convert this dataframe to an interactive table.\"\n",
              "            style=\"display:none;\">\n",
              "\n",
              "  <svg xmlns=\"http://www.w3.org/2000/svg\" height=\"24px\" viewBox=\"0 -960 960 960\">\n",
              "    <path d=\"M120-120v-720h720v720H120Zm60-500h600v-160H180v160Zm220 220h160v-160H400v160Zm0 220h160v-160H400v160ZM180-400h160v-160H180v160Zm440 0h160v-160H620v160ZM180-180h160v-160H180v160Zm440 0h160v-160H620v160Z\"/>\n",
              "  </svg>\n",
              "    </button>\n",
              "\n",
              "  <style>\n",
              "    .colab-df-container {\n",
              "      display:flex;\n",
              "      gap: 12px;\n",
              "    }\n",
              "\n",
              "    .colab-df-convert {\n",
              "      background-color: #E8F0FE;\n",
              "      border: none;\n",
              "      border-radius: 50%;\n",
              "      cursor: pointer;\n",
              "      display: none;\n",
              "      fill: #1967D2;\n",
              "      height: 32px;\n",
              "      padding: 0 0 0 0;\n",
              "      width: 32px;\n",
              "    }\n",
              "\n",
              "    .colab-df-convert:hover {\n",
              "      background-color: #E2EBFA;\n",
              "      box-shadow: 0px 1px 2px rgba(60, 64, 67, 0.3), 0px 1px 3px 1px rgba(60, 64, 67, 0.15);\n",
              "      fill: #174EA6;\n",
              "    }\n",
              "\n",
              "    .colab-df-buttons div {\n",
              "      margin-bottom: 4px;\n",
              "    }\n",
              "\n",
              "    [theme=dark] .colab-df-convert {\n",
              "      background-color: #3B4455;\n",
              "      fill: #D2E3FC;\n",
              "    }\n",
              "\n",
              "    [theme=dark] .colab-df-convert:hover {\n",
              "      background-color: #434B5C;\n",
              "      box-shadow: 0px 1px 3px 1px rgba(0, 0, 0, 0.15);\n",
              "      filter: drop-shadow(0px 1px 2px rgba(0, 0, 0, 0.3));\n",
              "      fill: #FFFFFF;\n",
              "    }\n",
              "  </style>\n",
              "\n",
              "    <script>\n",
              "      const buttonEl =\n",
              "        document.querySelector('#df-3536babc-edf2-405b-a480-8e1896441033 button.colab-df-convert');\n",
              "      buttonEl.style.display =\n",
              "        google.colab.kernel.accessAllowed ? 'block' : 'none';\n",
              "\n",
              "      async function convertToInteractive(key) {\n",
              "        const element = document.querySelector('#df-3536babc-edf2-405b-a480-8e1896441033');\n",
              "        const dataTable =\n",
              "          await google.colab.kernel.invokeFunction('convertToInteractive',\n",
              "                                                    [key], {});\n",
              "        if (!dataTable) return;\n",
              "\n",
              "        const docLinkHtml = 'Like what you see? Visit the ' +\n",
              "          '<a target=\"_blank\" href=https://colab.research.google.com/notebooks/data_table.ipynb>data table notebook</a>'\n",
              "          + ' to learn more about interactive tables.';\n",
              "        element.innerHTML = '';\n",
              "        dataTable['output_type'] = 'display_data';\n",
              "        await google.colab.output.renderOutput(dataTable, element);\n",
              "        const docLink = document.createElement('div');\n",
              "        docLink.innerHTML = docLinkHtml;\n",
              "        element.appendChild(docLink);\n",
              "      }\n",
              "    </script>\n",
              "  </div>\n",
              "\n",
              "\n",
              "    </div>\n",
              "  </div>\n"
            ],
            "application/vnd.google.colaboratory.intrinsic+json": {
              "type": "dataframe",
              "summary": "{\n  \"name\": \"display(\\\"Display with Query : \\\\n\\\" , dataFrame\",\n  \"rows\": 1,\n  \"fields\": [\n    {\n      \"column\": \"Name\",\n      \"properties\": {\n        \"dtype\": \"string\",\n        \"num_unique_values\": 1,\n        \"samples\": [\n          \"  ROSS    \"\n        ],\n        \"semantic_type\": \"\",\n        \"description\": \"\"\n      }\n    },\n    {\n      \"column\": \"Age\",\n      \"properties\": {\n        \"dtype\": \"number\",\n        \"std\": null,\n        \"min\": 33,\n        \"max\": 33,\n        \"num_unique_values\": 1,\n        \"samples\": [\n          33\n        ],\n        \"semantic_type\": \"\",\n        \"description\": \"\"\n      }\n    },\n    {\n      \"column\": \"Salary\",\n      \"properties\": {\n        \"dtype\": \"number\",\n        \"std\": null,\n        \"min\": 120000,\n        \"max\": 120000,\n        \"num_unique_values\": 1,\n        \"samples\": [\n          120000\n        ],\n        \"semantic_type\": \"\",\n        \"description\": \"\"\n      }\n    },\n    {\n      \"column\": \"JOB\",\n      \"properties\": {\n        \"dtype\": \"string\",\n        \"num_unique_values\": 1,\n        \"samples\": [\n          \"PALENTOLOGY\"\n        ],\n        \"semantic_type\": \"\",\n        \"description\": \"\"\n      }\n    }\n  ]\n}"
            }
          },
          "metadata": {}
        },
        {
          "output_type": "display_data",
          "data": {
            "text/plain": [
              "'Display with Query : \\n'"
            ],
            "application/vnd.google.colaboratory.intrinsic+json": {
              "type": "string"
            }
          },
          "metadata": {}
        },
        {
          "output_type": "display_data",
          "data": {
            "text/plain": [
              "        Name  Age  Salary   JOB\n",
              "1   MONICA     35   93000  CHEF"
            ],
            "text/html": [
              "\n",
              "  <div id=\"df-f26e3df8-3594-43ee-bc63-4d5c1872d2ff\" class=\"colab-df-container\">\n",
              "    <div>\n",
              "<style scoped>\n",
              "    .dataframe tbody tr th:only-of-type {\n",
              "        vertical-align: middle;\n",
              "    }\n",
              "\n",
              "    .dataframe tbody tr th {\n",
              "        vertical-align: top;\n",
              "    }\n",
              "\n",
              "    .dataframe thead th {\n",
              "        text-align: right;\n",
              "    }\n",
              "</style>\n",
              "<table border=\"1\" class=\"dataframe\">\n",
              "  <thead>\n",
              "    <tr style=\"text-align: right;\">\n",
              "      <th></th>\n",
              "      <th>Name</th>\n",
              "      <th>Age</th>\n",
              "      <th>Salary</th>\n",
              "      <th>JOB</th>\n",
              "    </tr>\n",
              "  </thead>\n",
              "  <tbody>\n",
              "    <tr>\n",
              "      <th>1</th>\n",
              "      <td>MONICA</td>\n",
              "      <td>35</td>\n",
              "      <td>93000</td>\n",
              "      <td>CHEF</td>\n",
              "    </tr>\n",
              "  </tbody>\n",
              "</table>\n",
              "</div>\n",
              "    <div class=\"colab-df-buttons\">\n",
              "\n",
              "  <div class=\"colab-df-container\">\n",
              "    <button class=\"colab-df-convert\" onclick=\"convertToInteractive('df-f26e3df8-3594-43ee-bc63-4d5c1872d2ff')\"\n",
              "            title=\"Convert this dataframe to an interactive table.\"\n",
              "            style=\"display:none;\">\n",
              "\n",
              "  <svg xmlns=\"http://www.w3.org/2000/svg\" height=\"24px\" viewBox=\"0 -960 960 960\">\n",
              "    <path d=\"M120-120v-720h720v720H120Zm60-500h600v-160H180v160Zm220 220h160v-160H400v160Zm0 220h160v-160H400v160ZM180-400h160v-160H180v160Zm440 0h160v-160H620v160ZM180-180h160v-160H180v160Zm440 0h160v-160H620v160Z\"/>\n",
              "  </svg>\n",
              "    </button>\n",
              "\n",
              "  <style>\n",
              "    .colab-df-container {\n",
              "      display:flex;\n",
              "      gap: 12px;\n",
              "    }\n",
              "\n",
              "    .colab-df-convert {\n",
              "      background-color: #E8F0FE;\n",
              "      border: none;\n",
              "      border-radius: 50%;\n",
              "      cursor: pointer;\n",
              "      display: none;\n",
              "      fill: #1967D2;\n",
              "      height: 32px;\n",
              "      padding: 0 0 0 0;\n",
              "      width: 32px;\n",
              "    }\n",
              "\n",
              "    .colab-df-convert:hover {\n",
              "      background-color: #E2EBFA;\n",
              "      box-shadow: 0px 1px 2px rgba(60, 64, 67, 0.3), 0px 1px 3px 1px rgba(60, 64, 67, 0.15);\n",
              "      fill: #174EA6;\n",
              "    }\n",
              "\n",
              "    .colab-df-buttons div {\n",
              "      margin-bottom: 4px;\n",
              "    }\n",
              "\n",
              "    [theme=dark] .colab-df-convert {\n",
              "      background-color: #3B4455;\n",
              "      fill: #D2E3FC;\n",
              "    }\n",
              "\n",
              "    [theme=dark] .colab-df-convert:hover {\n",
              "      background-color: #434B5C;\n",
              "      box-shadow: 0px 1px 3px 1px rgba(0, 0, 0, 0.15);\n",
              "      filter: drop-shadow(0px 1px 2px rgba(0, 0, 0, 0.3));\n",
              "      fill: #FFFFFF;\n",
              "    }\n",
              "  </style>\n",
              "\n",
              "    <script>\n",
              "      const buttonEl =\n",
              "        document.querySelector('#df-f26e3df8-3594-43ee-bc63-4d5c1872d2ff button.colab-df-convert');\n",
              "      buttonEl.style.display =\n",
              "        google.colab.kernel.accessAllowed ? 'block' : 'none';\n",
              "\n",
              "      async function convertToInteractive(key) {\n",
              "        const element = document.querySelector('#df-f26e3df8-3594-43ee-bc63-4d5c1872d2ff');\n",
              "        const dataTable =\n",
              "          await google.colab.kernel.invokeFunction('convertToInteractive',\n",
              "                                                    [key], {});\n",
              "        if (!dataTable) return;\n",
              "\n",
              "        const docLinkHtml = 'Like what you see? Visit the ' +\n",
              "          '<a target=\"_blank\" href=https://colab.research.google.com/notebooks/data_table.ipynb>data table notebook</a>'\n",
              "          + ' to learn more about interactive tables.';\n",
              "        element.innerHTML = '';\n",
              "        dataTable['output_type'] = 'display_data';\n",
              "        await google.colab.output.renderOutput(dataTable, element);\n",
              "        const docLink = document.createElement('div');\n",
              "        docLink.innerHTML = docLinkHtml;\n",
              "        element.appendChild(docLink);\n",
              "      }\n",
              "    </script>\n",
              "  </div>\n",
              "\n",
              "\n",
              "    </div>\n",
              "  </div>\n"
            ],
            "application/vnd.google.colaboratory.intrinsic+json": {
              "type": "dataframe",
              "summary": "{\n  \"name\": \"display(\\\"Display with Query : \\\\n\\\" , dataFrame\",\n  \"rows\": 1,\n  \"fields\": [\n    {\n      \"column\": \"Name\",\n      \"properties\": {\n        \"dtype\": \"string\",\n        \"num_unique_values\": 1,\n        \"samples\": [\n          \" MONICA  \"\n        ],\n        \"semantic_type\": \"\",\n        \"description\": \"\"\n      }\n    },\n    {\n      \"column\": \"Age\",\n      \"properties\": {\n        \"dtype\": \"number\",\n        \"std\": null,\n        \"min\": 35,\n        \"max\": 35,\n        \"num_unique_values\": 1,\n        \"samples\": [\n          35\n        ],\n        \"semantic_type\": \"\",\n        \"description\": \"\"\n      }\n    },\n    {\n      \"column\": \"Salary\",\n      \"properties\": {\n        \"dtype\": \"number\",\n        \"std\": null,\n        \"min\": 93000,\n        \"max\": 93000,\n        \"num_unique_values\": 1,\n        \"samples\": [\n          93000\n        ],\n        \"semantic_type\": \"\",\n        \"description\": \"\"\n      }\n    },\n    {\n      \"column\": \"JOB\",\n      \"properties\": {\n        \"dtype\": \"string\",\n        \"num_unique_values\": 1,\n        \"samples\": [\n          \"CHEF\"\n        ],\n        \"semantic_type\": \"\",\n        \"description\": \"\"\n      }\n    }\n  ]\n}"
            }
          },
          "metadata": {}
        }
      ]
    },
    {
      "cell_type": "markdown",
      "source": [
        "####**Sort Pandas DataFrame**"
      ],
      "metadata": {
        "id": "_wqZq6n4Md-4"
      }
    },
    {
      "cell_type": "code",
      "source": [
        "import pandas as pd\n",
        "data = {'Name': ['Alice', 'Bob', 'Charlie', 'David'],\n",
        "        'Age': [25, 30, 35, None],\n",
        "        'Score': [85, 90, 95, 80]}\n",
        "\n",
        "df = pd.DataFrame(data)\n",
        "\n",
        "# 1. Sorting a DataFrame by a Single Column :\n",
        "# Parameters of sort_values():\n",
        "# by: Specifies the column to sort by.\n",
        "# ascending: A boolean (True for ascending, False for descending).\n",
        "# inplace: If True, the original DataFrame is modified otherwise a new sorted DataFrame is returned.\n",
        "# na_position: Controls where NaN values are placed. Use 'first' to put NaNs at the top or 'last' (default) to place them at the end.\n",
        "# ignore_index: If True, resets the index after sorting.\n",
        "\n",
        "print('Result1 : \\n' , df.sort_values(by = 'Age' , ascending = False))\n",
        "\n",
        "\n",
        "# 2. Sorting a DataFrame by Multiple Columns\n",
        "print('Result2 : \\n ' ,  df.sort_values(by = ['Name' , 'Age']))\n",
        "\n",
        "# 3. Sorting DataFrame with Missing Values\n",
        "print('Result3 : \\n' , df.sort_values(by=\"Age\" , na_position='first'))\n",
        "\n",
        "# 4. Sorting by Index >>>> By default sort by ascending order\n",
        "print(\"Result4 : \\n\" , df.sort_index(ascending = False))\n",
        "\n",
        "# 5. Choosing a Sorting Algorithm\n",
        "\n",
        "# 1. QuickSort (kind='quicksort'):\n",
        "print(\"Result5 : \\n\" , df.sort_values(by = 'Age' , kind='quicksort'))\n",
        "# 2. MergeSort (kind='mergesort'):\n",
        "print(\"Result6 : \\n\" , df.sort_values(by = 'Score' , kind='mergesort'))\n",
        "# 3. HeapSort (kind= 'heapsort'):\n",
        "print(\"Result7 : \\n\" , df.sort_values(by = 'Score' , kind = 'heapsort'))"
      ],
      "metadata": {
        "colab": {
          "base_uri": "https://localhost:8080/"
        },
        "id": "YKsEsIMDMhDG",
        "outputId": "255d96b5-af75-4be5-b4a8-56d70b81e0a3"
      },
      "execution_count": null,
      "outputs": [
        {
          "output_type": "stream",
          "name": "stdout",
          "text": [
            "Result1 : \n",
            "       Name   Age  Score\n",
            "2  Charlie  35.0     95\n",
            "1      Bob  30.0     90\n",
            "0    Alice  25.0     85\n",
            "3    David   NaN     80\n",
            "Result2 : \n",
            "        Name   Age  Score\n",
            "0    Alice  25.0     85\n",
            "1      Bob  30.0     90\n",
            "2  Charlie  35.0     95\n",
            "3    David   NaN     80\n",
            "Result3 : \n",
            "       Name   Age  Score\n",
            "3    David   NaN     80\n",
            "0    Alice  25.0     85\n",
            "1      Bob  30.0     90\n",
            "2  Charlie  35.0     95\n",
            "Result4 : \n",
            "       Name   Age  Score\n",
            "3    David   NaN     80\n",
            "2  Charlie  35.0     95\n",
            "1      Bob  30.0     90\n",
            "0    Alice  25.0     85\n",
            "Result5 : \n",
            "       Name   Age  Score\n",
            "0    Alice  25.0     85\n",
            "1      Bob  30.0     90\n",
            "2  Charlie  35.0     95\n",
            "3    David   NaN     80\n",
            "Result6 : \n",
            "       Name   Age  Score\n",
            "3    David   NaN     80\n",
            "0    Alice  25.0     85\n",
            "1      Bob  30.0     90\n",
            "2  Charlie  35.0     95\n",
            "Result7 : \n",
            "       Name   Age  Score\n",
            "3    David   NaN     80\n",
            "0    Alice  25.0     85\n",
            "1      Bob  30.0     90\n",
            "2  Charlie  35.0     95\n"
          ]
        }
      ]
    },
    {
      "cell_type": "markdown",
      "source": [
        "####**Pandas Series**\n"
      ],
      "metadata": {
        "id": "eMk1SpJvQsJs"
      }
    },
    {
      "cell_type": "code",
      "source": [
        "import pandas as pd\n",
        "import numpy as np\n",
        "\n",
        "data = np.array(['g' , 'e' , 'e' , 'k' , 's' , 'f' , 'o' , 'r' , 'g' , 'e' , 'e' , 'k' , 's'])\n",
        "\n",
        "# 1. Creating pandas series by numpay array\n",
        "pd_series = pd.Series(data)\n",
        "\n",
        "print(\"Series\" , pd_series)\n",
        "\n",
        "#2 . Creating Series by dict\n",
        "dict_data = {'Geeks': 10, 'for': 20, 'geeks': 30}\n",
        "\n",
        "pd_series2 = pd.Series(dict_data)\n",
        "print(\"Dict To Series : \\n\" , pd_series2)\n",
        "\n",
        "# 3. Creating Series using Numpy Function >>> linespace() : linespace(start , end , no of value)\n",
        "\n",
        "\n",
        "pd_series3 = pd.Series(np.linspace(1 , 10 , 5))\n",
        "\n",
        "print(\"linspace : \\n\" , pd_series3)\n",
        "\n",
        "\n",
        "# 4. Creating Series using Range >>>>> range()\n",
        "\n",
        "print(\"Using Range Fun : \\n\" , pd.Series(range(2 , 5)))\n",
        "\n",
        "# 5. Accessing element with Position\n",
        "\n",
        "print(\"Accessing Element with position : \\n\" , pd_series[5])\n",
        "print(\"Accessing Element, Top 5 : \\n\" , pd_series[:5])\n",
        "\n",
        "# 6. Creating Pandas Series with Custom index namd and column\n",
        "\n",
        "list_data = ['a' , 'b' , 'c' , 'd' , 'e' , 'f']\n",
        "\n",
        "ps = pd.Series(list_data , index = ['1' , '2' , '3' , '4' , '5' , '6'])\n",
        "\n",
        "print(\"Pandas Series with Custom index : \\n\" , ps)\n",
        "\n",
        "\n"
      ],
      "metadata": {
        "colab": {
          "base_uri": "https://localhost:8080/"
        },
        "id": "Sz__vJLyXRrq",
        "outputId": "037c5a57-b03c-4ab5-b011-2cdf622cafb0"
      },
      "execution_count": null,
      "outputs": [
        {
          "output_type": "stream",
          "name": "stdout",
          "text": [
            "Series 0     g\n",
            "1     e\n",
            "2     e\n",
            "3     k\n",
            "4     s\n",
            "5     f\n",
            "6     o\n",
            "7     r\n",
            "8     g\n",
            "9     e\n",
            "10    e\n",
            "11    k\n",
            "12    s\n",
            "dtype: object\n",
            "Dict To Series : \n",
            " Geeks    10\n",
            "for      20\n",
            "geeks    30\n",
            "dtype: int64\n",
            "linspace : \n",
            " 0     1.00\n",
            "1     3.25\n",
            "2     5.50\n",
            "3     7.75\n",
            "4    10.00\n",
            "dtype: float64\n",
            "Using Range Fun : \n",
            " 0    2\n",
            "1    3\n",
            "2    4\n",
            "dtype: int64\n",
            "Accessing Element with position : \n",
            " f\n",
            "Accessing Element, Top 5 : \n",
            " 0    g\n",
            "1    e\n",
            "2    e\n",
            "3    k\n",
            "4    s\n",
            "dtype: object\n",
            "Pandas Series with Custom index : \n",
            " 1    a\n",
            "2    b\n",
            "3    c\n",
            "4    d\n",
            "5    e\n",
            "6    f\n",
            "dtype: object\n"
          ]
        }
      ]
    },
    {
      "cell_type": "markdown",
      "source": [
        "###**Pandas Operations**"
      ],
      "metadata": {
        "id": "a4rcaJ2wz-pG"
      }
    },
    {
      "cell_type": "markdown",
      "source": [
        "**1. Data Processing with Pandas.**"
      ],
      "metadata": {
        "id": "9vB3UG1U0cWZ"
      }
    },
    {
      "cell_type": "code",
      "source": [
        "from google.colab import files\n",
        "uploaded = files.upload()\n",
        "\n"
      ],
      "metadata": {
        "colab": {
          "base_uri": "https://localhost:8080/",
          "height": 556
        },
        "id": "xL7usZFP0lJR",
        "outputId": "29c44483-0d3d-48e8-88fe-d79175f7cb90"
      },
      "execution_count": null,
      "outputs": [
        {
          "output_type": "display_data",
          "data": {
            "text/plain": [
              "<IPython.core.display.HTML object>"
            ],
            "text/html": [
              "\n",
              "     <input type=\"file\" id=\"files-d1cb83db-7c76-4ba5-9cb8-a2c0832c0a19\" name=\"files[]\" multiple disabled\n",
              "        style=\"border:none\" />\n",
              "     <output id=\"result-d1cb83db-7c76-4ba5-9cb8-a2c0832c0a19\">\n",
              "      Upload widget is only available when the cell has been executed in the\n",
              "      current browser session. Please rerun this cell to enable.\n",
              "      </output>\n",
              "      <script>// Copyright 2017 Google LLC\n",
              "//\n",
              "// Licensed under the Apache License, Version 2.0 (the \"License\");\n",
              "// you may not use this file except in compliance with the License.\n",
              "// You may obtain a copy of the License at\n",
              "//\n",
              "//      http://www.apache.org/licenses/LICENSE-2.0\n",
              "//\n",
              "// Unless required by applicable law or agreed to in writing, software\n",
              "// distributed under the License is distributed on an \"AS IS\" BASIS,\n",
              "// WITHOUT WARRANTIES OR CONDITIONS OF ANY KIND, either express or implied.\n",
              "// See the License for the specific language governing permissions and\n",
              "// limitations under the License.\n",
              "\n",
              "/**\n",
              " * @fileoverview Helpers for google.colab Python module.\n",
              " */\n",
              "(function(scope) {\n",
              "function span(text, styleAttributes = {}) {\n",
              "  const element = document.createElement('span');\n",
              "  element.textContent = text;\n",
              "  for (const key of Object.keys(styleAttributes)) {\n",
              "    element.style[key] = styleAttributes[key];\n",
              "  }\n",
              "  return element;\n",
              "}\n",
              "\n",
              "// Max number of bytes which will be uploaded at a time.\n",
              "const MAX_PAYLOAD_SIZE = 100 * 1024;\n",
              "\n",
              "function _uploadFiles(inputId, outputId) {\n",
              "  const steps = uploadFilesStep(inputId, outputId);\n",
              "  const outputElement = document.getElementById(outputId);\n",
              "  // Cache steps on the outputElement to make it available for the next call\n",
              "  // to uploadFilesContinue from Python.\n",
              "  outputElement.steps = steps;\n",
              "\n",
              "  return _uploadFilesContinue(outputId);\n",
              "}\n",
              "\n",
              "// This is roughly an async generator (not supported in the browser yet),\n",
              "// where there are multiple asynchronous steps and the Python side is going\n",
              "// to poll for completion of each step.\n",
              "// This uses a Promise to block the python side on completion of each step,\n",
              "// then passes the result of the previous step as the input to the next step.\n",
              "function _uploadFilesContinue(outputId) {\n",
              "  const outputElement = document.getElementById(outputId);\n",
              "  const steps = outputElement.steps;\n",
              "\n",
              "  const next = steps.next(outputElement.lastPromiseValue);\n",
              "  return Promise.resolve(next.value.promise).then((value) => {\n",
              "    // Cache the last promise value to make it available to the next\n",
              "    // step of the generator.\n",
              "    outputElement.lastPromiseValue = value;\n",
              "    return next.value.response;\n",
              "  });\n",
              "}\n",
              "\n",
              "/**\n",
              " * Generator function which is called between each async step of the upload\n",
              " * process.\n",
              " * @param {string} inputId Element ID of the input file picker element.\n",
              " * @param {string} outputId Element ID of the output display.\n",
              " * @return {!Iterable<!Object>} Iterable of next steps.\n",
              " */\n",
              "function* uploadFilesStep(inputId, outputId) {\n",
              "  const inputElement = document.getElementById(inputId);\n",
              "  inputElement.disabled = false;\n",
              "\n",
              "  const outputElement = document.getElementById(outputId);\n",
              "  outputElement.innerHTML = '';\n",
              "\n",
              "  const pickedPromise = new Promise((resolve) => {\n",
              "    inputElement.addEventListener('change', (e) => {\n",
              "      resolve(e.target.files);\n",
              "    });\n",
              "  });\n",
              "\n",
              "  const cancel = document.createElement('button');\n",
              "  inputElement.parentElement.appendChild(cancel);\n",
              "  cancel.textContent = 'Cancel upload';\n",
              "  const cancelPromise = new Promise((resolve) => {\n",
              "    cancel.onclick = () => {\n",
              "      resolve(null);\n",
              "    };\n",
              "  });\n",
              "\n",
              "  // Wait for the user to pick the files.\n",
              "  const files = yield {\n",
              "    promise: Promise.race([pickedPromise, cancelPromise]),\n",
              "    response: {\n",
              "      action: 'starting',\n",
              "    }\n",
              "  };\n",
              "\n",
              "  cancel.remove();\n",
              "\n",
              "  // Disable the input element since further picks are not allowed.\n",
              "  inputElement.disabled = true;\n",
              "\n",
              "  if (!files) {\n",
              "    return {\n",
              "      response: {\n",
              "        action: 'complete',\n",
              "      }\n",
              "    };\n",
              "  }\n",
              "\n",
              "  for (const file of files) {\n",
              "    const li = document.createElement('li');\n",
              "    li.append(span(file.name, {fontWeight: 'bold'}));\n",
              "    li.append(span(\n",
              "        `(${file.type || 'n/a'}) - ${file.size} bytes, ` +\n",
              "        `last modified: ${\n",
              "            file.lastModifiedDate ? file.lastModifiedDate.toLocaleDateString() :\n",
              "                                    'n/a'} - `));\n",
              "    const percent = span('0% done');\n",
              "    li.appendChild(percent);\n",
              "\n",
              "    outputElement.appendChild(li);\n",
              "\n",
              "    const fileDataPromise = new Promise((resolve) => {\n",
              "      const reader = new FileReader();\n",
              "      reader.onload = (e) => {\n",
              "        resolve(e.target.result);\n",
              "      };\n",
              "      reader.readAsArrayBuffer(file);\n",
              "    });\n",
              "    // Wait for the data to be ready.\n",
              "    let fileData = yield {\n",
              "      promise: fileDataPromise,\n",
              "      response: {\n",
              "        action: 'continue',\n",
              "      }\n",
              "    };\n",
              "\n",
              "    // Use a chunked sending to avoid message size limits. See b/62115660.\n",
              "    let position = 0;\n",
              "    do {\n",
              "      const length = Math.min(fileData.byteLength - position, MAX_PAYLOAD_SIZE);\n",
              "      const chunk = new Uint8Array(fileData, position, length);\n",
              "      position += length;\n",
              "\n",
              "      const base64 = btoa(String.fromCharCode.apply(null, chunk));\n",
              "      yield {\n",
              "        response: {\n",
              "          action: 'append',\n",
              "          file: file.name,\n",
              "          data: base64,\n",
              "        },\n",
              "      };\n",
              "\n",
              "      let percentDone = fileData.byteLength === 0 ?\n",
              "          100 :\n",
              "          Math.round((position / fileData.byteLength) * 100);\n",
              "      percent.textContent = `${percentDone}% done`;\n",
              "\n",
              "    } while (position < fileData.byteLength);\n",
              "  }\n",
              "\n",
              "  // All done.\n",
              "  yield {\n",
              "    response: {\n",
              "      action: 'complete',\n",
              "    }\n",
              "  };\n",
              "}\n",
              "\n",
              "scope.google = scope.google || {};\n",
              "scope.google.colab = scope.google.colab || {};\n",
              "scope.google.colab._files = {\n",
              "  _uploadFiles,\n",
              "  _uploadFilesContinue,\n",
              "};\n",
              "})(self);\n",
              "</script> "
            ]
          },
          "metadata": {}
        },
        {
          "output_type": "stream",
          "name": "stdout",
          "text": [
            "Saving nba.csv to nba (1).csv\n",
            "              Name            Team  Number Position   Age Height  Weight  \\\n",
            "0    Avery Bradley  Boston Celtics     0.0       PG  25.0    6-2   180.0   \n",
            "1      Jae Crowder  Boston Celtics    99.0       SF  25.0    6-6   235.0   \n",
            "2     John Holland  Boston Celtics    30.0       SG  27.0    6-5   205.0   \n",
            "3      R.J. Hunter  Boston Celtics    28.0       SG  22.0    6-5   185.0   \n",
            "4    Jonas Jerebko  Boston Celtics     8.0       PF  29.0   6-10   231.0   \n",
            "..             ...             ...     ...      ...   ...    ...     ...   \n",
            "453   Shelvin Mack       Utah Jazz     8.0       PG  26.0    6-3   203.0   \n",
            "454      Raul Neto       Utah Jazz    25.0       PG  24.0    6-1   179.0   \n",
            "455   Tibor Pleiss       Utah Jazz    21.0        C  26.0    7-3   256.0   \n",
            "456    Jeff Withey       Utah Jazz    24.0        C  26.0    7-0   231.0   \n",
            "457            NaN             NaN     NaN      NaN   NaN    NaN     NaN   \n",
            "\n",
            "               College     Salary  \n",
            "0                Texas  7730337.0  \n",
            "1            Marquette  6796117.0  \n",
            "2    Boston University        NaN  \n",
            "3        Georgia State  1148640.0  \n",
            "4                  NaN  5000000.0  \n",
            "..                 ...        ...  \n",
            "453             Butler  2433333.0  \n",
            "454                NaN   900000.0  \n",
            "455                NaN  2900000.0  \n",
            "456             Kansas   947276.0  \n",
            "457                NaN        NaN  \n",
            "\n",
            "[458 rows x 9 columns]\n"
          ]
        }
      ]
    },
    {
      "cell_type": "code",
      "source": [
        "import pandas as pd\n",
        "data = pd.read_csv('nba.csv')\n",
        "print(data.head(10).sort_values(by='Number'))\n",
        "\n",
        "df = pd.DataFrame(data)\n",
        "\n",
        "# printing columns Name of the Data\n",
        "\n",
        "print(\"✅ Columns Name : \\n\" , data.columns)\n",
        "\n",
        "# printing Summary of the Data\n",
        "print(\"\\n ✅ Summary of the DAta : \\n\" , df.info())\n",
        "# printing describe of the Data : Count , mean , std , max , min etc.\n",
        "print(\"\\n ✅ Describe funtion : \\n\" , df.describe())\n",
        "\n",
        "# finding Missing Value in Dataset\n",
        "\n",
        "print(\"\\n ✅ Finding Missing value : \\n\" , df.isnull())\n",
        "\n",
        "# Remove the missing value\n",
        "print(\"\\n ✅ Removed the missing Value : \\n \" , df.dropna().head(5))\n",
        "\n",
        "# Fill the missing Value\n",
        "print(\"\\n ✅ Filling the missing value: \\n\" , df.fillna(value='Number').head(5))\n",
        "\n",
        "# Removed Row\n",
        "print(\"\\n ✅ Removed 4th row of the Dataset : \\n\" , df.drop(4).head())\n",
        "\n",
        "# Rename the row of the Dataset\n",
        "print(\"\\n ✅ Renamed the 0th and 1st Row of the Dataset : \\n\" , df.rename({0 : 'index-1' , 1 : 'index-2'}).head(5))\n",
        "\n",
        "# Adding new column : adding new column with fixed value\n",
        "df[\"New Column\"] = 1\n",
        "print(\"\\n ✅ Adding new column and value : \\n\" , df.head(5))\n",
        "\n",
        "# Sorting by columns\n",
        "\n",
        "print(\"\\n ✅ Sorting by Number ascending order : \\n\" , df.sort_values(by = 'Number').tail(5))\n",
        "\n",
        "print(\"\\n ✅ Sorting my mutliple columns : \\n\" , df.sort_values(by=[\"Name\" , 'Number' , \"Age\"]).tail(5))\n",
        "\n",
        "\n",
        "# Merge the Data\n",
        "\n",
        "df1 = pd.DataFrame({\n",
        "        'Name':['Jeevan', 'Raavan', 'Geeta', 'Bheem'],\n",
        "        'Age':[25, 24, 52, 40],\n",
        "        'Qualification':['Msc', 'MA', 'MCA', 'Phd']})\n",
        "\n",
        "df2 = pd.DataFrame({\n",
        "        'Name':['Jeevan', 'Raavan', 'Geeta', 'Bheem'],\n",
        "         'Job' : ['IT' , 'Govt' , 'IT' , 'Govt']})\n",
        "\n",
        "print(\"\\n ✅ Merged the Data df1 and df2 \\n\" , pd.merge(df1 , df2))\n",
        "\n",
        "\n",
        "# Visualization\n",
        "df.plot(x ='Number', y='Age',kind = 'scatter')\n",
        "\n",
        "df.plot.hist()\n"
      ],
      "metadata": {
        "colab": {
          "base_uri": "https://localhost:8080/",
          "height": 1000
        },
        "id": "a3aRekZR5n4V",
        "outputId": "f12e73ee-f9d8-411c-a067-ecaeaf943b1a"
      },
      "execution_count": null,
      "outputs": [
        {
          "output_type": "stream",
          "name": "stdout",
          "text": [
            "            Name            Team  Number Position   Age Height  Weight  \\\n",
            "0  Avery Bradley  Boston Celtics     0.0       PG  25.0    6-2   180.0   \n",
            "4  Jonas Jerebko  Boston Celtics     8.0       PF  29.0   6-10   231.0   \n",
            "8   Terry Rozier  Boston Celtics    12.0       PG  22.0    6-2   190.0   \n",
            "3    R.J. Hunter  Boston Celtics    28.0       SG  22.0    6-5   185.0   \n",
            "2   John Holland  Boston Celtics    30.0       SG  27.0    6-5   205.0   \n",
            "9   Marcus Smart  Boston Celtics    36.0       PG  22.0    6-4   220.0   \n",
            "7   Kelly Olynyk  Boston Celtics    41.0        C  25.0    7-0   238.0   \n",
            "6  Jordan Mickey  Boston Celtics    55.0       PF  21.0    6-8   235.0   \n",
            "5   Amir Johnson  Boston Celtics    90.0       PF  29.0    6-9   240.0   \n",
            "1    Jae Crowder  Boston Celtics    99.0       SF  25.0    6-6   235.0   \n",
            "\n",
            "             College      Salary  \n",
            "0              Texas   7730337.0  \n",
            "4                NaN   5000000.0  \n",
            "8         Louisville   1824360.0  \n",
            "3      Georgia State   1148640.0  \n",
            "2  Boston University         NaN  \n",
            "9     Oklahoma State   3431040.0  \n",
            "7            Gonzaga   2165160.0  \n",
            "6                LSU   1170960.0  \n",
            "5                NaN  12000000.0  \n",
            "1          Marquette   6796117.0  \n",
            "✅ Columns Name : \n",
            " Index(['Name', 'Team', 'Number', 'Position', 'Age', 'Height', 'Weight',\n",
            "       'College', 'Salary'],\n",
            "      dtype='object')\n",
            "<class 'pandas.core.frame.DataFrame'>\n",
            "RangeIndex: 458 entries, 0 to 457\n",
            "Data columns (total 9 columns):\n",
            " #   Column    Non-Null Count  Dtype  \n",
            "---  ------    --------------  -----  \n",
            " 0   Name      457 non-null    object \n",
            " 1   Team      457 non-null    object \n",
            " 2   Number    457 non-null    float64\n",
            " 3   Position  457 non-null    object \n",
            " 4   Age       457 non-null    float64\n",
            " 5   Height    457 non-null    object \n",
            " 6   Weight    457 non-null    float64\n",
            " 7   College   373 non-null    object \n",
            " 8   Salary    446 non-null    float64\n",
            "dtypes: float64(4), object(5)\n",
            "memory usage: 32.3+ KB\n",
            "\n",
            " ✅ Summary of the DAta : \n",
            " None\n",
            "\n",
            " ✅ Describe funtion : \n",
            "            Number         Age      Weight        Salary\n",
            "count  457.000000  457.000000  457.000000  4.460000e+02\n",
            "mean    17.678337   26.938731  221.522976  4.842684e+06\n",
            "std     15.966090    4.404016   26.368343  5.229238e+06\n",
            "min      0.000000   19.000000  161.000000  3.088800e+04\n",
            "25%      5.000000   24.000000  200.000000  1.044792e+06\n",
            "50%     13.000000   26.000000  220.000000  2.839073e+06\n",
            "75%     25.000000   30.000000  240.000000  6.500000e+06\n",
            "max     99.000000   40.000000  307.000000  2.500000e+07\n",
            "\n",
            " ✅ Finding Missing value : \n",
            "       Name   Team  Number  Position    Age  Height  Weight  College  Salary\n",
            "0    False  False   False     False  False   False   False    False   False\n",
            "1    False  False   False     False  False   False   False    False   False\n",
            "2    False  False   False     False  False   False   False    False    True\n",
            "3    False  False   False     False  False   False   False    False   False\n",
            "4    False  False   False     False  False   False   False     True   False\n",
            "..     ...    ...     ...       ...    ...     ...     ...      ...     ...\n",
            "453  False  False   False     False  False   False   False    False   False\n",
            "454  False  False   False     False  False   False   False     True   False\n",
            "455  False  False   False     False  False   False   False     True   False\n",
            "456  False  False   False     False  False   False   False    False   False\n",
            "457   True   True    True      True   True    True    True     True    True\n",
            "\n",
            "[458 rows x 9 columns]\n",
            "\n",
            " ✅ Removed the missing Value : \n",
            "              Name            Team  Number Position   Age Height  Weight  \\\n",
            "0  Avery Bradley  Boston Celtics     0.0       PG  25.0    6-2   180.0   \n",
            "1    Jae Crowder  Boston Celtics    99.0       SF  25.0    6-6   235.0   \n",
            "3    R.J. Hunter  Boston Celtics    28.0       SG  22.0    6-5   185.0   \n",
            "6  Jordan Mickey  Boston Celtics    55.0       PF  21.0    6-8   235.0   \n",
            "7   Kelly Olynyk  Boston Celtics    41.0        C  25.0    7-0   238.0   \n",
            "\n",
            "         College     Salary  \n",
            "0          Texas  7730337.0  \n",
            "1      Marquette  6796117.0  \n",
            "3  Georgia State  1148640.0  \n",
            "6            LSU  1170960.0  \n",
            "7        Gonzaga  2165160.0  \n",
            "\n",
            " ✅ Filling the missing value: \n",
            "             Name            Team Number Position   Age Height Weight  \\\n",
            "0  Avery Bradley  Boston Celtics    0.0       PG  25.0    6-2  180.0   \n",
            "1    Jae Crowder  Boston Celtics   99.0       SF  25.0    6-6  235.0   \n",
            "2   John Holland  Boston Celtics   30.0       SG  27.0    6-5  205.0   \n",
            "3    R.J. Hunter  Boston Celtics   28.0       SG  22.0    6-5  185.0   \n",
            "4  Jonas Jerebko  Boston Celtics    8.0       PF  29.0   6-10  231.0   \n",
            "\n",
            "             College     Salary  \n",
            "0              Texas  7730337.0  \n",
            "1          Marquette  6796117.0  \n",
            "2  Boston University     Number  \n",
            "3      Georgia State  1148640.0  \n",
            "4             Number  5000000.0  \n",
            "\n",
            " ✅ Removed 4th row of the Dataset : \n",
            "             Name            Team  Number Position   Age Height  Weight  \\\n",
            "0  Avery Bradley  Boston Celtics     0.0       PG  25.0    6-2   180.0   \n",
            "1    Jae Crowder  Boston Celtics    99.0       SF  25.0    6-6   235.0   \n",
            "2   John Holland  Boston Celtics    30.0       SG  27.0    6-5   205.0   \n",
            "3    R.J. Hunter  Boston Celtics    28.0       SG  22.0    6-5   185.0   \n",
            "5   Amir Johnson  Boston Celtics    90.0       PF  29.0    6-9   240.0   \n",
            "\n",
            "             College      Salary  \n",
            "0              Texas   7730337.0  \n",
            "1          Marquette   6796117.0  \n",
            "2  Boston University         NaN  \n",
            "3      Georgia State   1148640.0  \n",
            "5                NaN  12000000.0  \n",
            "\n",
            " ✅ Renamed the 0th and 1st Row of the Dataset : \n",
            "                   Name            Team  Number Position   Age Height  Weight  \\\n",
            "index-1  Avery Bradley  Boston Celtics     0.0       PG  25.0    6-2   180.0   \n",
            "index-2    Jae Crowder  Boston Celtics    99.0       SF  25.0    6-6   235.0   \n",
            "2         John Holland  Boston Celtics    30.0       SG  27.0    6-5   205.0   \n",
            "3          R.J. Hunter  Boston Celtics    28.0       SG  22.0    6-5   185.0   \n",
            "4        Jonas Jerebko  Boston Celtics     8.0       PF  29.0   6-10   231.0   \n",
            "\n",
            "                   College     Salary  \n",
            "index-1              Texas  7730337.0  \n",
            "index-2          Marquette  6796117.0  \n",
            "2        Boston University        NaN  \n",
            "3            Georgia State  1148640.0  \n",
            "4                      NaN  5000000.0  \n",
            "\n",
            " ✅ Adding new column and value : \n",
            "             Name            Team  Number Position   Age Height  Weight  \\\n",
            "0  Avery Bradley  Boston Celtics     0.0       PG  25.0    6-2   180.0   \n",
            "1    Jae Crowder  Boston Celtics    99.0       SF  25.0    6-6   235.0   \n",
            "2   John Holland  Boston Celtics    30.0       SG  27.0    6-5   205.0   \n",
            "3    R.J. Hunter  Boston Celtics    28.0       SG  22.0    6-5   185.0   \n",
            "4  Jonas Jerebko  Boston Celtics     8.0       PF  29.0   6-10   231.0   \n",
            "\n",
            "             College     Salary  New Column  \n",
            "0              Texas  7730337.0           1  \n",
            "1          Marquette  6796117.0           1  \n",
            "2  Boston University        NaN           1  \n",
            "3      Georgia State  1148640.0           1  \n",
            "4                NaN  5000000.0           1  \n",
            "\n",
            " ✅ Sorting by Number ascending order : \n",
            "                Name                Team  Number Position   Age Height  Weight  \\\n",
            "5      Amir Johnson      Boston Celtics    90.0       PF  29.0    6-9   240.0   \n",
            "372     Drew Gooden  Washington Wizards    90.0       PF  34.0   6-10   250.0   \n",
            "68   Lucas Nogueira     Toronto Raptors    92.0        C  23.0    7-0   220.0   \n",
            "1       Jae Crowder      Boston Celtics    99.0       SF  25.0    6-6   235.0   \n",
            "457             NaN                 NaN     NaN      NaN   NaN    NaN     NaN   \n",
            "\n",
            "       College      Salary  New Column  \n",
            "5          NaN  12000000.0           1  \n",
            "372     Kansas   3300000.0           1  \n",
            "68         NaN   1842000.0           1  \n",
            "1    Marquette   6796117.0           1  \n",
            "457        NaN         NaN           1  \n",
            "\n",
            " ✅ Sorting my mutliple columns : \n",
            "                Name                    Team  Number Position   Age Height  \\\n",
            "270  Xavier Munford       Memphis Grizzlies    14.0       PG  24.0    6-3   \n",
            "402     Zach LaVine  Minnesota Timberwolves     8.0       PG  21.0    6-5   \n",
            "271   Zach Randolph       Memphis Grizzlies    50.0       PF  34.0    6-9   \n",
            "237   Zaza Pachulia        Dallas Mavericks    27.0        C  32.0   6-11   \n",
            "457             NaN                     NaN     NaN      NaN   NaN    NaN   \n",
            "\n",
            "     Weight         College     Salary  New Column  \n",
            "270   180.0    Rhode Island        NaN           1  \n",
            "402   189.0            UCLA  2148360.0           1  \n",
            "271   260.0  Michigan State  9638555.0           1  \n",
            "237   275.0             NaN  5200000.0           1  \n",
            "457     NaN             NaN        NaN           1  \n",
            "\n",
            " ✅ Merged the Data df1 and df2 \n",
            "      Name  Age Qualification   Job\n",
            "0  Jeevan   25           Msc    IT\n",
            "1  Raavan   24            MA  Govt\n",
            "2   Geeta   52           MCA    IT\n",
            "3   Bheem   40           Phd  Govt\n"
          ]
        },
        {
          "output_type": "execute_result",
          "data": {
            "text/plain": [
              "<Axes: ylabel='Frequency'>"
            ]
          },
          "metadata": {},
          "execution_count": 57
        },
        {
          "output_type": "display_data",
          "data": {
            "text/plain": [
              "<Figure size 640x480 with 1 Axes>"
            ],
            "image/png": "[encoded data removed]"
          },
          "metadata": {}
        },
        {
          "output_type": "display_data",
          "data": {
            "text/plain": [
              "<Figure size 640x480 with 1 Axes>"
            ],
            "image/png": "[encoded data removed]"
          },
          "metadata": {}
        }
      ]
    },
    {
      "cell_type": "markdown",
      "source": [
        "####**2.Data Normalization in Pandas**"
      ],
      "metadata": {
        "id": "OVMNmtKIFyt9"
      }
    },
    {
      "cell_type": "code",
      "source": [
        "# Steps for Data Normalization in Pandas :\n",
        "\n",
        "# Import the required libraries\n",
        "# Load or create a dataset\n",
        "# Apply different normalization techniques\n",
        "# Visualize the results\n",
        "\n",
        "import pandas as pd\n",
        "import matplotlib.pyplot as plt\n",
        "\n",
        "df = pd.DataFrame([\n",
        "    [180000, 110, 18.9, 1400],\n",
        "    [360000, 905, 23.4, 1800],\n",
        "    [230000, 230, 14.0, 1300],\n",
        "    [60000, 450, 13.5, 1500]\n",
        "] , columns = [\"Col-A\" , \"Col-B\" , \"Col-C\" , \"Col-D\" ])\n",
        "\n",
        "print(df)\n",
        "\n",
        "df.plot(kind='bar')\n",
        "\n",
        "plt.show()"
      ],
      "metadata": {
        "colab": {
          "base_uri": "https://localhost:8080/",
          "height": 514
        },
        "id": "2MfbIzP9XQXz",
        "outputId": "e1a0a114-9785-4533-95a1-993076dd2e1e"
      },
      "execution_count": null,
      "outputs": [
        {
          "output_type": "stream",
          "name": "stdout",
          "text": [
            "    Col-A  Col-B  Col-C  Col-D\n",
            "0  180000    110   18.9   1400\n",
            "1  360000    905   23.4   1800\n",
            "2  230000    230   14.0   1300\n",
            "3   60000    450   13.5   1500\n"
          ]
        },
        {
          "output_type": "display_data",
          "data": {
            "text/plain": [
              "<Figure size 640x480 with 1 Axes>"
            ],
            "image/png": "[encoded data removed]"
          },
          "metadata": {}
        }
      ]
    },
    {
      "cell_type": "code",
      "source": [
        "# 1. Maximum Absolute Scaling :\n",
        "\n",
        "# This technique rescales each feature between -1 and 1 by dividing all\n",
        "# values by the maximum absolute value in that column. This technique is\n",
        "# especially useful when your data doesn’t contain negative numbers and\n",
        "# you want to preserve the data’s sparsity. We can apply the maximum absolute scaling\n",
        "# in Pandas using the .max() and .abs() methods as shown below.\n",
        "\n",
        "import pandas as pd\n",
        "\n",
        "import matplotlib.pyplot as plt\n",
        "\n",
        "df = pd.DataFrame([\n",
        "    [180000, 110, 18.9, 1400],\n",
        "    [360000, 905, 23.4, 1800],\n",
        "    [230000, 230, 14.0, 1300],\n",
        "    [60000, 450, 13.5, 1500]\n",
        "] , columns = [\"Col-A\" , \"Col-B\" , \"Col-C\" , \"Col-D\" ])\n",
        "\n",
        "print(\"Before Max-Abs Scalling Dataset : \\n\" , df)\n",
        "for column in df.columns:\n",
        "  df[column] = df[column] / df[column].abs().max()\n",
        "\n",
        "\n",
        "print(\"After Max-Abs Scalling Dataset : \\n\" , df)\n",
        "\n",
        "df.plot(kind='bar')\n",
        "\n",
        "plt.show()\n",
        "\n",
        "\n",
        "# As we can see in the Column all value lie b/w -1 and 1\n",
        "\n",
        "\n",
        "\n",
        "\n",
        "\n"
      ],
      "metadata": {
        "colab": {
          "base_uri": "https://localhost:8080/",
          "height": 639
        },
        "id": "pszcSxTYaSAe",
        "outputId": "ea71b6b8-0138-4109-afe1-766b66f82c3e"
      },
      "execution_count": null,
      "outputs": [
        {
          "output_type": "stream",
          "name": "stdout",
          "text": [
            "Before Max-Abs Scalling Dataset : \n",
            "     Col-A  Col-B  Col-C  Col-D\n",
            "0  180000    110   18.9   1400\n",
            "1  360000    905   23.4   1800\n",
            "2  230000    230   14.0   1300\n",
            "3   60000    450   13.5   1500\n",
            "After Max-Abs Scalling Dataset : \n",
            "       Col-A     Col-B     Col-C     Col-D\n",
            "0  0.500000  0.121547  0.807692  0.777778\n",
            "1  1.000000  1.000000  1.000000  1.000000\n",
            "2  0.638889  0.254144  0.598291  0.722222\n",
            "3  0.166667  0.497238  0.576923  0.833333\n"
          ]
        },
        {
          "output_type": "display_data",
          "data": {
            "text/plain": [
              "<Figure size 640x480 with 1 Axes>"
            ],
            "image/png": "[encoded data removed]"
          },
          "metadata": {}
        }
      ]
    },
    {
      "cell_type": "code",
      "source": [
        "# 2. The min-max feature scaling :\n",
        "\n",
        "# The min-max approach also called normalization rescales the feature to a hard and\n",
        "# fast range of [0,1] by subtracting the minimum value of the feature then dividing by the range.\n",
        "# It works well for models like K-Nearest Neighbors (KNN) which compare distance between data points.\n",
        "# We can apply the min-max scaling in Pandas using the .min() and .max() methods.\n",
        "\n",
        "\n",
        "import pandas as pd\n",
        "import matplotlib.pyplot as plt\n",
        "\n",
        "df = pd.DataFrame([\n",
        "    [180000, 110, 18.9, 1400],\n",
        "    [360000, 905, 23.4, 1800],\n",
        "    [230000, 230, 14.0, 1300],\n",
        "    [60000, 450, 13.5, 1500]\n",
        "] , columns = [\"Col-A\" , \"Col-B\" , \"Col-C\" , \"Col-D\" ])\n",
        "\n",
        "\n",
        "for column in df.columns:\n",
        "  df[column] = (df[column] - df[column].min()) / (df[column].max() - df[column].min())\n",
        "\n",
        "print(df)\n",
        "\n",
        "df.plot(kind='bar')\n",
        "\n",
        "plt.show()\n",
        "\n",
        "# After scalling the smalles value became 0 and largest value became 1 and all\n",
        "# other value lie b/w them\n",
        "\n"
      ],
      "metadata": {
        "colab": {
          "base_uri": "https://localhost:8080/",
          "height": 514
        },
        "id": "gZDUvJsJcIV-",
        "outputId": "641b890e-42f4-48f5-b017-fee4c7569176"
      },
      "execution_count": null,
      "outputs": [
        {
          "output_type": "stream",
          "name": "stdout",
          "text": [
            "      Col-A     Col-B     Col-C  Col-D\n",
            "0  0.400000  0.000000  0.545455    0.2\n",
            "1  1.000000  1.000000  1.000000    1.0\n",
            "2  0.566667  0.150943  0.050505    0.0\n",
            "3  0.000000  0.427673  0.000000    0.4\n"
          ]
        },
        {
          "output_type": "display_data",
          "data": {
            "text/plain": [
              "<Figure size 640x480 with 1 Axes>"
            ],
            "image/png": "[encoded data removed]"
          },
          "metadata": {}
        }
      ]
    },
    {
      "cell_type": "code",
      "source": [
        "# 3. The z-score method\n",
        "\n",
        "# The z-score method often called standardization changes the values in each column\n",
        "# so that they have a mean of 0 and a standard deviation of 1. This technique is best when your data follow a\n",
        "# normal distribution or when you want to treat values in terms of how far they are from the average.\n",
        "\n",
        "z_scaled = df.copy()\n",
        "\n",
        "for column in z_scaled.columns:\n",
        "  z_scaled[column] = (z_scaled[column] - z_scaled[column].mean()) / (z_scaled[column].std())\n",
        "\n",
        "print(z_scaled)\n",
        "\n",
        "z_scaled.plot(kind = 'bar')\n",
        "plt.show()\n",
        "\n",
        "\n",
        "# After applying this method each feature is centered around zero and its spread is standardized.\n",
        "# This helps in models like logistic regression, SVM and neural networks to perform better."
      ],
      "metadata": {
        "colab": {
          "base_uri": "https://localhost:8080/",
          "height": 517
        },
        "id": "M_WR1a7WfKjy",
        "outputId": "6aee3617-e410-4cfe-b65b-29870af23c31"
      },
      "execution_count": null,
      "outputs": [
        {
          "output_type": "stream",
          "name": "stdout",
          "text": [
            "      Col-A     Col-B     Col-C    Col-D\n",
            "0 -0.221422 -0.895492  0.311486 -0.46291\n",
            "1  1.227884  1.373564  1.278167  1.38873\n",
            "2  0.181163 -0.552993 -0.741122 -0.92582\n",
            "3 -1.187625  0.074922 -0.848531  0.00000\n"
          ]
        },
        {
          "output_type": "display_data",
          "data": {
            "text/plain": [
              "<Figure size 640x480 with 1 Axes>"
            ],
            "image/png": "[encoded data removed]"
          },
          "metadata": {}
        }
      ]
    },
    {
      "cell_type": "markdown",
      "source": [
        "####**Pandas dataframe.groupby() Method**"
      ],
      "metadata": {
        "id": "qAuHvYWXhPzw"
      }
    },
    {
      "cell_type": "code",
      "source": [
        "import pandas as pd\n",
        "import matplotlib.pyplot as plt\n",
        "\n",
        "\n",
        "df = pd.DataFrame({'Product' : ['Electronics' , 'Furniture' , 'Electronics' , 'Furniture'] , 'Sales' : [10000 , 4000 , 50000 , 800000]})\n",
        "\n",
        "result = df.groupby('Product')['Sales'].sum()\n",
        "\n",
        "print(result)\n",
        "\n",
        "result.plot(kind = 'bar')\n",
        "\n",
        "plt.show()\n"
      ],
      "metadata": {
        "id": "8Fj-cQXThSo7",
        "colab": {
          "base_uri": "https://localhost:8080/",
          "height": 582
        },
        "outputId": "6261dc1a-bfe5-4c68-d34b-c5605d2555a6"
      },
      "execution_count": 3,
      "outputs": [
        {
          "output_type": "stream",
          "name": "stdout",
          "text": [
            "Product\n",
            "Electronics     60000\n",
            "Furniture      804000\n",
            "Name: Sales, dtype: int64\n"
          ]
        },
        {
          "output_type": "display_data",
          "data": {
            "text/plain": [
              "<Figure size 640x480 with 1 Axes>"
            ],
            "image/png": "[encoded data removed]"
          },
          "metadata": {}
        }
      ]
    },
    {
      "cell_type": "markdown",
      "source": [
        "**How to Use Pandas GroupBy Method?**\n",
        "\n",
        "The groupby() function in Pandas involves three main steps: Splitting, Applying, and Combining.\n",
        "\n",
        "**Splitting:** This step involves dividing the DataFrame into groups based on some criteria. The groups are defined by unique values in one or more columns.\n",
        "\n",
        "**Applying:** In this step, a function is applied to each group independently. You can apply various functions to each group, such as:\n",
        "\n",
        "**1. Aggregation:** Calculate summary statistics (e.g., sum, mean, count) for each group.\n",
        "\n",
        "**2. Transformation:** Modify the values within each group.\n",
        "Filtering: Keep or discard groups based on certain conditions.\n",
        "\n",
        "**Combining:** Finally, the results of the applied function are combined into a new DataFrame or Series.\n",
        "\n",
        "The groupby method has several parameters that can be customized:\n",
        "\n",
        "DataFrame.groupby(by=None, axis=0, level=None, as_index=True, sort=True, group_keys=True, observed=False, dropna=True)\n",
        "\n",
        "**Parameters :**\n",
        "\n",
        "by: Required parameter to specify the column(s) to group by.\n",
        "\n",
        "axis: Optional, specifies the axis to group by (default is 0 for rows).\n",
        "\n",
        "level: Optional, used for grouping by a certain level in a MultiIndex.\n",
        "\n",
        "as_index: Optional, whether to use the group labels as the index (default is True).\n",
        "\n",
        "sort: Optional, whether to sort the group keys (default is True).\n",
        "\n",
        "group_keys: Optional, whether to add the group keys to the index (default is True).\n",
        "\n",
        "dropna: Optional, whether to include rows/columns with NULL values (default is True\n",
        "\n"
      ],
      "metadata": {
        "id": "GaOO-wQ4BH50"
      }
    },
    {
      "cell_type": "code",
      "source": [
        "# 1. Grouped by a Single Columns\n",
        "\n",
        "import pandas as pd\n",
        "\n",
        "data = pd.read_csv('https://media.geeksforgeeks.org/wp-content/uploads/nba.csv')\n",
        "\n",
        "team = pd.DataFrame(data)\n",
        "\n",
        "print(team.head(5))\n",
        "\n",
        "print(\"\\n ✅ Grouped by Team : \\n\" , team.groupby('Team').first())\n",
        "\n",
        "# 2. Grouped by multiple columns\n",
        "\n",
        "print(\"\\n ✅  Grouped by Team and Position\" , team.groupby(['Team' , 'Position']).first().head(10))\n",
        "\n",
        "# Example 3 : Applying Aggregation with GroupBy\n",
        "# Aggregation is one of the most common operations when using groupby. After grouping the data, you can apply functions like sum(), mean(), min(), max(), and more.\n",
        "\n",
        "# sum(): Calculates the total sum of values for each group. Useful when you need to know the total amount of a numeric column grouped by specific categories.\n",
        "# mean(): Computes the average value of each group, helpful for understanding trends and patterns within grouped data.\n",
        "# count(): Counts the number of entries in each group, returns the number of non-null entries for each group.\n",
        "\n",
        "result = team.groupby(['Team' , 'Position']).agg(total_salary = ('Salary' , 'sum') , avg_salary = ('Salary' , 'mean') , player_count = ('Name' , 'count'))\n",
        "print(\"\\n ✅ Grouped by Team and Position basis on total_salary , avg_salary , player_count \\n\" , result.head(10))"
      ],
      "metadata": {
        "colab": {
          "base_uri": "https://localhost:8080/"
        },
        "id": "w1nmQxoGCdIe",
        "outputId": "98696842-35d8-45f5-f74f-869274c13fd7"
      },
      "execution_count": 14,
      "outputs": [
        {
          "output_type": "stream",
          "name": "stdout",
          "text": [
            "            Name            Team  Number Position   Age Height  Weight  \\\n",
            "0  Avery Bradley  Boston Celtics     0.0       PG  25.0    6-2   180.0   \n",
            "1    Jae Crowder  Boston Celtics    99.0       SF  25.0    6-6   235.0   \n",
            "2   John Holland  Boston Celtics    30.0       SG  27.0    6-5   205.0   \n",
            "3    R.J. Hunter  Boston Celtics    28.0       SG  22.0    6-5   185.0   \n",
            "4  Jonas Jerebko  Boston Celtics     8.0       PF  29.0   6-10   231.0   \n",
            "\n",
            "             College     Salary  \n",
            "0              Texas  7730337.0  \n",
            "1          Marquette  6796117.0  \n",
            "2  Boston University        NaN  \n",
            "3      Georgia State  1148640.0  \n",
            "4                NaN  5000000.0  \n",
            "\n",
            " ✅ Grouped by Team : \n",
            "                                          Name  Number Position   Age Height  \\\n",
            "Team                                                                          \n",
            "Atlanta Hawks                   Kent Bazemore    24.0       SF  26.0    6-5   \n",
            "Boston Celtics                  Avery Bradley     0.0       PG  25.0    6-2   \n",
            "Brooklyn Nets                Bojan Bogdanovic    44.0       SG  27.0    6-8   \n",
            "Charlotte Hornets               Nicolas Batum     5.0       SG  27.0    6-8   \n",
            "Chicago Bulls                Cameron Bairstow    41.0       PF  25.0    6-9   \n",
            "Cleveland Cavaliers       Matthew Dellavedova     8.0       PG  25.0    6-4   \n",
            "Dallas Mavericks              Justin Anderson     1.0       SG  22.0    6-6   \n",
            "Denver Nuggets                 Darrell Arthur     0.0       PF  28.0    6-9   \n",
            "Detroit Pistons                  Joel Anthony    50.0        C  33.0    6-9   \n",
            "Golden State Warriors         Leandro Barbosa    19.0       SG  33.0    6-3   \n",
            "Houston Rockets                  Trevor Ariza     1.0       SF  30.0    6-8   \n",
            "Indiana Pacers                    Lavoy Allen     5.0       PF  27.0    6-9   \n",
            "Los Angeles Clippers             Cole Aldrich    45.0        C  27.0   6-11   \n",
            "Los Angeles Lakers               Brandon Bass     2.0       PF  31.0    6-8   \n",
            "Memphis Grizzlies                Jordan Adams     3.0       SG  21.0    6-5   \n",
            "Miami Heat                         Chris Bosh     1.0       PF  32.0   6-11   \n",
            "Milwaukee Bucks         Giannis Antetokounmpo    34.0       SF  21.0   6-11   \n",
            "Minnesota Timberwolves        Nemanja Bjelica    88.0       PF  28.0   6-10   \n",
            "New Orleans Pelicans            Alexis Ajinca    42.0        C  28.0    7-2   \n",
            "New York Knicks                 Arron Afflalo     4.0       SG  30.0    6-5   \n",
            "Oklahoma City Thunder            Steven Adams    12.0        C  22.0    7-0   \n",
            "Orlando Magic                  Dewayne Dedmon     3.0        C  26.0    7-0   \n",
            "Philadelphia 76ers                Elton Brand    42.0       PF  37.0    6-9   \n",
            "Phoenix Suns                     Eric Bledsoe     2.0       PG  26.0    6-1   \n",
            "Portland Trail Blazers        Cliff Alexander    34.0       PF  20.0    6-8   \n",
            "Sacramento Kings                   Quincy Acy    13.0       SF  25.0    6-7   \n",
            "San Antonio Spurs           LaMarcus Aldridge    12.0       PF  30.0   6-11   \n",
            "Toronto Raptors               Bismack Biyombo     8.0        C  23.0    6-9   \n",
            "Utah Jazz                       Trevor Booker    33.0       PF  28.0    6-8   \n",
            "Washington Wizards              Alan Anderson     6.0       SG  33.0    6-6   \n",
            "\n",
            "                        Weight                College      Salary  \n",
            "Team                                                               \n",
            "Atlanta Hawks            201.0           Old Dominion   2000000.0  \n",
            "Boston Celtics           180.0                  Texas   7730337.0  \n",
            "Brooklyn Nets            216.0         Oklahoma State   3425510.0  \n",
            "Charlotte Hornets        200.0  Virginia Commonwealth  13125306.0  \n",
            "Chicago Bulls            250.0             New Mexico    845059.0  \n",
            "Cleveland Cavaliers      198.0           Saint Mary's   1147276.0  \n",
            "Dallas Mavericks         228.0               Virginia   1449000.0  \n",
            "Denver Nuggets           235.0                 Kansas   2814000.0  \n",
            "Detroit Pistons          245.0                   UNLV   2500000.0  \n",
            "Golden State Warriors    194.0         North Carolina   2500000.0  \n",
            "Houston Rockets          215.0                   UCLA   8193030.0  \n",
            "Indiana Pacers           255.0                 Temple   4050000.0  \n",
            "Los Angeles Clippers     250.0                 Kansas   1100602.0  \n",
            "Los Angeles Lakers       250.0                    LSU   3000000.0  \n",
            "Memphis Grizzlies        209.0                   UCLA   1404600.0  \n",
            "Miami Heat               235.0           Georgia Tech  22192730.0  \n",
            "Milwaukee Bucks          222.0                Arizona   1953960.0  \n",
            "Minnesota Timberwolves   240.0             Louisville   3950001.0  \n",
            "New Orleans Pelicans     248.0             California   4389607.0  \n",
            "New York Knicks          210.0                   UCLA   8000000.0  \n",
            "Oklahoma City Thunder    255.0             Pittsburgh   2279040.0  \n",
            "Orlando Magic            245.0                    USC    947276.0  \n",
            "Philadelphia 76ers       254.0                   Duke    947276.0  \n",
            "Phoenix Suns             190.0               Kentucky  13500000.0  \n",
            "Portland Trail Blazers   240.0                 Kansas    525093.0  \n",
            "Sacramento Kings         240.0                 Baylor    981348.0  \n",
            "San Antonio Spurs        240.0                  Texas  19689000.0  \n",
            "Toronto Raptors          245.0               Missouri   2814000.0  \n",
            "Utah Jazz                228.0                Clemson   4775000.0  \n",
            "Washington Wizards       220.0         Michigan State   4000000.0  \n",
            "\n",
            " ✅  Grouped by Team and Position                                      Name  Number   Age Height  Weight  \\\n",
            "Team           Position                                                  \n",
            "Atlanta Hawks  C               Al Horford    15.0  30.0   6-10   245.0   \n",
            "               PF          Kris Humphries    43.0  31.0    6-9   235.0   \n",
            "               PG         Dennis Schroder    17.0  22.0    6-1   172.0   \n",
            "               SF           Kent Bazemore    24.0  26.0    6-5   201.0   \n",
            "               SG        Tim Hardaway Jr.    10.0  24.0    6-6   205.0   \n",
            "Boston Celtics C             Kelly Olynyk    41.0  25.0    7-0   238.0   \n",
            "               PF           Jonas Jerebko     8.0  29.0   6-10   231.0   \n",
            "               PG           Avery Bradley     0.0  25.0    6-2   180.0   \n",
            "               SF             Jae Crowder    99.0  25.0    6-6   235.0   \n",
            "               SG            John Holland    30.0  27.0    6-5   205.0   \n",
            "\n",
            "                                   College      Salary  \n",
            "Team           Position                                 \n",
            "Atlanta Hawks  C                   Florida  12000000.0  \n",
            "               PF                Minnesota   1000000.0  \n",
            "               PG              Wake Forest   1763400.0  \n",
            "               SF             Old Dominion   2000000.0  \n",
            "               SG                 Michigan   1304520.0  \n",
            "Boston Celtics C                   Gonzaga   2165160.0  \n",
            "               PF                      LSU   5000000.0  \n",
            "               PG                    Texas   7730337.0  \n",
            "               SF                Marquette   6796117.0  \n",
            "               SG        Boston University   1148640.0  \n",
            "\n",
            " ✅ Grouped by Team and Position basis on total_salary , avg_salary , player_count \n",
            "                          total_salary    avg_salary  player_count\n",
            "Team           Position                                          \n",
            "Atlanta Hawks  C           22756250.0  7.585417e+06             3\n",
            "               PF          23952268.0  5.988067e+06             4\n",
            "               PG           9763400.0  4.881700e+06             2\n",
            "               SF           6000000.0  3.000000e+06             2\n",
            "               SG          10431032.0  2.607758e+06             4\n",
            "Boston Celtics C            7351395.0  2.450465e+06             3\n",
            "               PF          18170960.0  6.056987e+06             3\n",
            "               PG          19898606.0  4.974652e+06             4\n",
            "               SF           6796117.0  6.796117e+06             1\n",
            "               SG           6323990.0  2.107997e+06             4\n"
          ]
        }
      ]
    },
    {
      "cell_type": "code",
      "source": [
        "# Example 4: How to Apply Transformation Methods?\n",
        "\n",
        "# Transformation functions return an object that is indexed the same as the original group. This is useful when you need to apply operations that\n",
        "# maintain the original structure of the data, such as normalization or standardization within groups. Purpose: Apply group-specific operations while\n",
        "# maintaining the original shape of the dataset. Unlike aggregation, which reduces data, transformations allow group-specific modifications without altering the shape of the data.\n",
        "\n",
        "import pandas as pd\n",
        "import matplotlib.pyplot as plt\n",
        "\n",
        "df = pd.read_csv('https://media.geeksforgeeks.org/wp-content/uploads/nba.csv')\n",
        "\n",
        "\n",
        "# Rank Player within each Team by Salary\n",
        "\n",
        "df['Rank within Team'] = df.groupby('Team')['Salary'].transform(lambda x : x.rank(ascending = False))\n",
        "\n",
        "print(\"\\n  ✅Grouped by Team and Rank on basis on their Salary: \\n\" , df.head(10))\n",
        "\n",
        "df.plot(kind='bar')\n",
        "\n",
        "plt.show()\n",
        "\n",
        "\n",
        "\n",
        "\n",
        "\n",
        "# Example 5 : Filtering Groups Using Filtration Methods\n",
        "\n",
        "# Filtering by Team , where avg Salary is greater than 100000\n",
        "result = df.groupby('Team').filter(lambda x : x['Salary'].mean() >= 100000)\n",
        "\n",
        "print(\"\\n  ✅Grouped by Team , where avg salary is greater than 100000\" , result.head(10))\n",
        "\n",
        "result.plot(kind='bar')\n",
        "\n",
        "plt.show()\n",
        "\n"
      ],
      "metadata": {
        "colab": {
          "base_uri": "https://localhost:8080/",
          "height": 1000
        },
        "id": "NrVrHHWnJSd2",
        "outputId": "17983eb5-560a-47eb-e973-b9375cdeeb79"
      },
      "execution_count": 25,
      "outputs": [
        {
          "output_type": "stream",
          "name": "stdout",
          "text": [
            "\n",
            "  ✅Grouped by Team and Rank on basis on their Salary: \n",
            "             Name            Team  Number Position   Age Height  Weight  \\\n",
            "0  Avery Bradley  Boston Celtics     0.0       PG  25.0    6-2   180.0   \n",
            "1    Jae Crowder  Boston Celtics    99.0       SF  25.0    6-6   235.0   \n",
            "2   John Holland  Boston Celtics    30.0       SG  27.0    6-5   205.0   \n",
            "3    R.J. Hunter  Boston Celtics    28.0       SG  22.0    6-5   185.0   \n",
            "4  Jonas Jerebko  Boston Celtics     8.0       PF  29.0   6-10   231.0   \n",
            "5   Amir Johnson  Boston Celtics    90.0       PF  29.0    6-9   240.0   \n",
            "6  Jordan Mickey  Boston Celtics    55.0       PF  21.0    6-8   235.0   \n",
            "7   Kelly Olynyk  Boston Celtics    41.0        C  25.0    7-0   238.0   \n",
            "8   Terry Rozier  Boston Celtics    12.0       PG  22.0    6-2   190.0   \n",
            "9   Marcus Smart  Boston Celtics    36.0       PG  22.0    6-4   220.0   \n",
            "\n",
            "             College      Salary  Rank within Team  \n",
            "0              Texas   7730337.0               2.0  \n",
            "1          Marquette   6796117.0               4.0  \n",
            "2  Boston University         NaN               NaN  \n",
            "3      Georgia State   1148640.0              14.0  \n",
            "4                NaN   5000000.0               5.0  \n",
            "5                NaN  12000000.0               1.0  \n",
            "6                LSU   1170960.0              13.0  \n",
            "7            Gonzaga   2165160.0              10.0  \n",
            "8         Louisville   1824360.0              11.0  \n",
            "9     Oklahoma State   3431040.0               6.0  \n"
          ]
        },
        {
          "output_type": "display_data",
          "data": {
            "text/plain": [
              "<Figure size 640x480 with 1 Axes>"
            ],
            "image/png": "[encoded data removed]"
          },
          "metadata": {}
        },
        {
          "output_type": "stream",
          "name": "stdout",
          "text": [
            "\n",
            "  ✅Grouped by Team , where avg salary is greater than 100000             Name            Team  Number Position   Age Height  Weight  \\\n",
            "0  Avery Bradley  Boston Celtics     0.0       PG  25.0    6-2   180.0   \n",
            "1    Jae Crowder  Boston Celtics    99.0       SF  25.0    6-6   235.0   \n",
            "2   John Holland  Boston Celtics    30.0       SG  27.0    6-5   205.0   \n",
            "3    R.J. Hunter  Boston Celtics    28.0       SG  22.0    6-5   185.0   \n",
            "4  Jonas Jerebko  Boston Celtics     8.0       PF  29.0   6-10   231.0   \n",
            "5   Amir Johnson  Boston Celtics    90.0       PF  29.0    6-9   240.0   \n",
            "6  Jordan Mickey  Boston Celtics    55.0       PF  21.0    6-8   235.0   \n",
            "7   Kelly Olynyk  Boston Celtics    41.0        C  25.0    7-0   238.0   \n",
            "8   Terry Rozier  Boston Celtics    12.0       PG  22.0    6-2   190.0   \n",
            "9   Marcus Smart  Boston Celtics    36.0       PG  22.0    6-4   220.0   \n",
            "\n",
            "             College      Salary  Rank within Team  \n",
            "0              Texas   7730337.0               2.0  \n",
            "1          Marquette   6796117.0               4.0  \n",
            "2  Boston University         NaN               NaN  \n",
            "3      Georgia State   1148640.0              14.0  \n",
            "4                NaN   5000000.0               5.0  \n",
            "5                NaN  12000000.0               1.0  \n",
            "6                LSU   1170960.0              13.0  \n",
            "7            Gonzaga   2165160.0              10.0  \n",
            "8         Louisville   1824360.0              11.0  \n",
            "9     Oklahoma State   3431040.0               6.0  \n"
          ]
        },
        {
          "output_type": "display_data",
          "data": {
            "text/plain": [
              "<Figure size 640x480 with 1 Axes>"
            ],
            "image/png": "[encoded data removed]"
          },
          "metadata": {}
        }
      ]
    },
    {
      "cell_type": "markdown",
      "source": [
        "####**Grouping and Aggregating with Pandas**"
      ],
      "metadata": {
        "id": "6IIN08zDM6XP"
      }
    },
    {
      "cell_type": "markdown",
      "source": [
        "**Aggregation in Pandas**\n",
        "\n",
        "Aggregation means applying a mathematical function to summarize data. It can be used to get a summary of columns in our dataset like getting sum, minimum, maximum etc. from a particular column of our dataset. The function used for aggregation is agg() the parameter is the function we want to perform. Some functions used in the aggregation are:\n",
        "\n",
        "**Function\tDescription** :\n",
        "\n",
        "sum()\tCompute sum of column values\n",
        "\n",
        "min()\tCompute min of column values\n",
        "\n",
        "max()\tCompute max of column values\n",
        "\n",
        "mean()\tCompute mean of column\n",
        "\n",
        "size()\tCompute column sizes\n",
        "\n",
        "describe()\tGenerates descriptive statistics\n",
        "\n",
        "first()\tCompute first of group values\n",
        "\n",
        "last()\tCompute last of group values\n",
        "\n",
        "count()\tCompute count of column values\n",
        "\n",
        "std()\tStandard deviation of column\n",
        "\n",
        "var()\tCompute variance of column\n",
        "\n",
        "sem()\tStandard error of the mean of column"
      ],
      "metadata": {
        "id": "FKihJlwOdzsw"
      }
    },
    {
      "cell_type": "code",
      "source": [
        "import pandas as pd\n",
        "\n",
        "df = pd.DataFrame([[9, 4, 8, 9],\n",
        "                   [8, 10, 7, 6],\n",
        "                   [7, 6, 8, 5]],\n",
        "                  columns=['Maths',  'English',\n",
        "                           'Science', 'History'])\n",
        "\n",
        "print(\"\\n DataFrame : \\n\" , df)\n",
        "\n",
        "print(\"\\n Sum all the Values: \\n\" , df.sum())\n",
        "\n",
        "print(\"\\n Getting a Summary: \\n\" , df.describe())\n",
        "\n",
        "print(\"\\n Applying multiple Aggresation at once : \\n\" , df.agg(['sum' , 'min' , 'max']))\n",
        "\n",
        "# Grouping in Pandas\n",
        "# 1. Grouping Data by One Column Using groupby()\n",
        "\n",
        "data = {\n",
        "    'Item': ['Cake', 'Cake', 'Bread', 'Pastry', 'Cake'],\n",
        "    'Flavor': ['Chocolate', 'Vanilla', 'Whole Wheat', 'Strawberry', 'Chocolate'],\n",
        "    'Price': [250, 220, 80, 120, 250]\n",
        "}\n",
        "df = pd.DataFrame(data)\n",
        "result = df.groupby('Item')\n",
        "\n",
        "print(\"\\n Grouping Data based on item column : \\n\" , result)\n",
        "\n",
        "print(\"\\n Grouping Data based on item column and sum of the price: \\n \" , df.groupby('Item')['Price'].sum())\n",
        "\n",
        "# 2. Grouping by Multiple column\n",
        "\n",
        "print(\"\\n Grouping Data based on multiple column and sum of the price \\n\" , df.groupby(['Item' , 'Flavor'])['Price'].sum())"
      ],
      "metadata": {
        "colab": {
          "base_uri": "https://localhost:8080/"
        },
        "id": "NIOvIGr-eMdh",
        "outputId": "a0c747a2-03f4-46ad-881a-4ee3de9a69c9"
      },
      "execution_count": 9,
      "outputs": [
        {
          "output_type": "stream",
          "name": "stdout",
          "text": [
            "\n",
            " DataFrame : \n",
            "    Maths  English  Science  History\n",
            "0      9        4        8        9\n",
            "1      8       10        7        6\n",
            "2      7        6        8        5\n",
            "\n",
            " Sum all the Values: \n",
            " Maths      24\n",
            "English    20\n",
            "Science    23\n",
            "History    20\n",
            "dtype: int64\n",
            "\n",
            " Getting a Summary: \n",
            "        Maths    English   Science   History\n",
            "count    3.0   3.000000  3.000000  3.000000\n",
            "mean     8.0   6.666667  7.666667  6.666667\n",
            "std      1.0   3.055050  0.577350  2.081666\n",
            "min      7.0   4.000000  7.000000  5.000000\n",
            "25%      7.5   5.000000  7.500000  5.500000\n",
            "50%      8.0   6.000000  8.000000  6.000000\n",
            "75%      8.5   8.000000  8.000000  7.500000\n",
            "max      9.0  10.000000  8.000000  9.000000\n",
            "\n",
            " Applying multiple Aggresation at once : \n",
            "      Maths  English  Science  History\n",
            "sum     24       20       23       20\n",
            "min      7        4        7        5\n",
            "max      9       10        8        9\n",
            "\n",
            " Grouping Data based on item column : \n",
            " <pandas.core.groupby.generic.DataFrameGroupBy object at 0x7940733bb080>\n",
            "\n",
            " Grouping Data based on item column and sum of the price: \n",
            "  Item\n",
            "Bread      80\n",
            "Cake      720\n",
            "Pastry    120\n",
            "Name: Price, dtype: int64\n",
            "\n",
            " Grouping Data based on multiple column and sum of the price \n",
            " Item    Flavor     \n",
            "Bread   Whole Wheat     80\n",
            "Cake    Chocolate      500\n",
            "        Vanilla        220\n",
            "Pastry  Strawberry     120\n",
            "Name: Price, dtype: int64\n"
          ]
        }
      ]
    }
  ]
}